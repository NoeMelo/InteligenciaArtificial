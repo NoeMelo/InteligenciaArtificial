{
 "cells": [
  {
   "cell_type": "markdown",
   "metadata": {
    "colab_type": "text",
    "id": "EoAf9ZsNfoj8"
   },
   "source": [
    "<p><img height=\"45px\" src=\"https://cdn1.iconfinder.com/data/icons/logotypes/32/square-twitter-512.png\" align=\"left\" hspace=\"10px\" vspace=\"0px\"></p>\n",
    "<font size = \"6.5\" color = \"0E3FE3\"><b>Tweepy</b></font>"
   ]
  },
  {
   "cell_type": "markdown",
   "metadata": {
    "colab_type": "text",
    "id": "NEcu001Nm-vb"
   },
   "source": [
    "## Acceder a la API"
   ]
  },
  {
   "cell_type": "code",
   "execution_count": 9,
   "metadata": {
    "colab": {
     "base_uri": "https://localhost:8080/",
     "height": 224
    },
    "colab_type": "code",
    "id": "V0T89GDVfiFG",
    "outputId": "90cf9496-033b-43c8-8b09-c879373e3512"
   },
   "outputs": [],
   "source": [
    "##!pip install tweepy"
   ]
  },
  {
   "cell_type": "code",
   "execution_count": 2,
   "metadata": {
    "colab": {},
    "colab_type": "code",
    "id": "IFDTIEt0erKD"
   },
   "outputs": [],
   "source": [
    "## Llamamos a la librería\n",
    "import tweepy"
   ]
  },
  {
   "cell_type": "code",
   "execution_count": 3,
   "metadata": {
    "colab": {},
    "colab_type": "code",
    "id": "-S8Nh_v9eHn9"
   },
   "outputs": [],
   "source": [
    "## Se define las variables para el acceso al API de twitter\n",
    "consumer_key = ''\n",
    "consumer_secret = ''\n",
    "access_token = ''\n",
    "access_token_secret = ''"
   ]
  },
  {
   "cell_type": "code",
   "execution_count": 4,
   "metadata": {
    "colab": {},
    "colab_type": "code",
    "id": "63xbxem3eHri"
   },
   "outputs": [],
   "source": [
    "## Se autentica en twitter\n",
    "auth = tweepy.OAuthHandler(consumer_key, consumer_secret)\n",
    "auth.set_access_token(access_token, access_token_secret)\n",
    "\n",
    "## Creamos la instancia de Twitter\n",
    "api = tweepy.API(auth)"
   ]
  },
  {
   "cell_type": "code",
   "execution_count": 10,
   "metadata": {
    "colab": {
     "base_uri": "https://localhost:8080/",
     "height": 36
    },
    "colab_type": "code",
    "id": "blVoINbteHwn",
    "outputId": "05a8921e-0743-4ab8-fb27-7c526578a3e7"
   },
   "outputs": [
    {
     "name": "stdout",
     "output_type": "stream",
     "text": [
      "Noé Melo\n"
     ]
    }
   ],
   "source": [
    "## Se verifica que el usuario conectado en twitter es de uno\n",
    "print(api.me().name)"
   ]
  },
  {
   "cell_type": "markdown",
   "metadata": {
    "colab_type": "text",
    "id": "i5IyTkNLnCux"
   },
   "source": [
    "## Hacer una búsqueda de un #hastach"
   ]
  },
  {
   "cell_type": "code",
   "execution_count": 11,
   "metadata": {
    "colab": {
     "base_uri": "https://localhost:8080/",
     "height": 36
    },
    "colab_type": "code",
    "id": "saHrpiAlgIiM",
    "outputId": "16436dd4-3593-4e2f-df63-ceab971f0682"
   },
   "outputs": [
    {
     "name": "stdout",
     "output_type": "stream",
     "text": [
      "<tweepy.cursor.ItemIterator object at 0x0000019E92837080>\n"
     ]
    }
   ],
   "source": [
    "## Buscar una hastach específico  \n",
    "search_term = \"#endgame\"\n",
    "tweets = tweepy.Cursor(api.search,\n",
    "                   q=search_term,\n",
    "                   lang=\"en\", ## es for ESPANISH language\n",
    "                   since='2018-04-25').items(1000) ## ANIO|MES|DIA  Definir el número de tweets\n",
    "\n",
    "print(tweets)"
   ]
  },
  {
   "cell_type": "code",
   "execution_count": 12,
   "metadata": {
    "colab": {
     "base_uri": "https://localhost:8080/",
     "height": 36
    },
    "colab_type": "code",
    "id": "mZeM3pP2gIk-",
    "outputId": "ba788d67-5515-4062-f31f-851a73ecec96"
   },
   "outputs": [
    {
     "name": "stdout",
     "output_type": "stream",
     "text": [
      "<class 'tweepy.cursor.ItemIterator'>\n"
     ]
    }
   ],
   "source": [
    "print(type(tweets))"
   ]
  },
  {
   "cell_type": "code",
   "execution_count": 13,
   "metadata": {
    "colab": {
     "base_uri": "https://localhost:8080/",
     "height": 349
    },
    "colab_type": "code",
    "id": "G7vFe6FHgInr",
    "outputId": "e574c16d-91e5-4a2d-d67f-4e6818964e9a"
   },
   "outputs": [
    {
     "data": {
      "text/plain": [
       "['Made it along to see #Avengers #Endgame tonight after all. Why did no one warn me I would cry?! But it really was w… https://t.co/k0AfohxRvr',\n",
       " \"@porschespider @TheAvengersZone Amazing. I'm glad you did. I've seen it six times &amp; wasn't a huge #MCU fan. This is… https://t.co/8ISfzVBHgN\",\n",
       " \"RT @AcidOli: Can we all make a pact to go see #EndGame again to get it to no.1 is the all-time box office\\n\\nIt's only $140m behind Avatar\",\n",
       " \"RT @LifeTeen: How many times have you seen #Endgame? \\n\\nIf you've seen it at least once, check out this spoil-full blog about what this movi…\",\n",
       " \"RT @SuppaDuppa666: I think he wouldn't have been able ...\\n\\n#endgame cc/ @DonCheadle https://t.co/HuQVkTrLtH\"]"
      ]
     },
     "execution_count": 13,
     "metadata": {},
     "output_type": "execute_result"
    }
   ],
   "source": [
    "## Extraer el texto de los Tweets\n",
    "tweets_text = [tweet.text for tweet in tweets]\n",
    "tweets_text[0:5]"
   ]
  },
  {
   "cell_type": "code",
   "execution_count": 11,
   "metadata": {
    "colab": {
     "base_uri": "https://localhost:8080/",
     "height": 36
    },
    "colab_type": "code",
    "id": "kdVPiuPHgIp6",
    "outputId": "1540dc40-64fe-4e9c-a214-860ecc0f5ef1"
   },
   "outputs": [
    {
     "data": {
      "text/plain": [
       "1000"
      ]
     },
     "execution_count": 11,
     "metadata": {
      "tags": []
     },
     "output_type": "execute_result"
    }
   ],
   "source": [
    "len(tweets_text)"
   ]
  },
  {
   "cell_type": "markdown",
   "metadata": {
    "colab_type": "text",
    "id": "Tieg738NoWCK"
   },
   "source": [
    "## Análisis de Sentimientos"
   ]
  },
  {
   "cell_type": "code",
   "execution_count": 15,
   "metadata": {},
   "outputs": [
    {
     "name": "stdout",
     "output_type": "stream",
     "text": [
      "Collecting textblob\n",
      "  Downloading https://files.pythonhosted.org/packages/60/f0/1d9bfcc8ee6b83472ec571406bd0dd51c0e6330ff1a51b2d29861d389e85/textblob-0.15.3-py2.py3-none-any.whl (636kB)\n",
      "Requirement already satisfied: nltk>=3.1 in c:\\users\\noy-4\\anaconda3\\lib\\site-packages (from textblob) (3.3)\n",
      "Requirement already satisfied: six in c:\\users\\noy-4\\anaconda3\\lib\\site-packages (from nltk>=3.1->textblob) (1.11.0)\n",
      "Installing collected packages: textblob\n",
      "Successfully installed textblob-0.15.3\n"
     ]
    },
    {
     "name": "stderr",
     "output_type": "stream",
     "text": [
      "You are using pip version 19.0.3, however version 19.1.1 is available.\n",
      "You should consider upgrading via the 'python -m pip install --upgrade pip' command.\n"
     ]
    }
   ],
   "source": [
    "!pip install textblob"
   ]
  },
  {
   "cell_type": "code",
   "execution_count": 16,
   "metadata": {
    "colab": {},
    "colab_type": "code",
    "id": "_S2_1ShwoZEE"
   },
   "outputs": [
    {
     "name": "stdout",
     "output_type": "stream",
     "text": [
      "[nltk_data] Downloading package punkt to\n",
      "[nltk_data]     C:\\Users\\noy-4\\AppData\\Roaming\\nltk_data...\n",
      "[nltk_data]   Package punkt is already up-to-date!\n"
     ]
    },
    {
     "data": {
      "text/plain": [
       "True"
      ]
     },
     "execution_count": 16,
     "metadata": {},
     "output_type": "execute_result"
    }
   ],
   "source": [
    "## Librería para procesar datos textuales (NLP) y realizar análisis de sentimientos\n",
    "from textblob import TextBlob\n",
    "import nltk\n",
    "nltk.download(\"punkt\")"
   ]
  },
  {
   "cell_type": "code",
   "execution_count": 17,
   "metadata": {
    "colab": {},
    "colab_type": "code",
    "id": "squgwpMcofq8"
   },
   "outputs": [
    {
     "name": "stdout",
     "output_type": "stream",
     "text": [
      "['Python', 'is', 'beautiful']\n",
      "['Python', 'is', 'a', 'hard']\n"
     ]
    }
   ],
   "source": [
    "## tokenización de palabras\n",
    "positivo = TextBlob(\"Python is beautiful\")\n",
    "negativo = TextBlob(\"Python is a hard\")\n",
    "print(positivo.words)\n",
    "print(negativo.words)"
   ]
  },
  {
   "cell_type": "code",
   "execution_count": 18,
   "metadata": {
    "colab": {},
    "colab_type": "code",
    "id": "4VQcK_JGp0d9"
   },
   "outputs": [
    {
     "name": "stdout",
     "output_type": "stream",
     "text": [
      "0.85\n"
     ]
    }
   ],
   "source": [
    "## sentimiento positivo\n",
    "print(positivo.sentiment.polarity)"
   ]
  },
  {
   "cell_type": "code",
   "execution_count": 19,
   "metadata": {
    "colab": {},
    "colab_type": "code",
    "id": "02sWBMpNqQkL"
   },
   "outputs": [
    {
     "name": "stdout",
     "output_type": "stream",
     "text": [
      "-0.2916666666666667\n"
     ]
    }
   ],
   "source": [
    "## sentimiento negativo\n",
    "print(negativo.sentiment.polarity)"
   ]
  },
  {
   "cell_type": "markdown",
   "metadata": {
    "colab_type": "text",
    "id": "cEom4DDpqdmG"
   },
   "source": [
    "* [-1] ------> indica más negativo\n",
    "* [0] ------> regular\n",
    "* [1] ------> indica más positivo"
   ]
  },
  {
   "cell_type": "code",
   "execution_count": 20,
   "metadata": {
    "colab": {},
    "colab_type": "code",
    "id": "M1ZaM06eqbZ7"
   },
   "outputs": [
    {
     "data": {
      "text/plain": [
       "[TextBlob(\"Made it along to see #Avengers #Endgame tonight after all. Why did no one warn me I would cry?! But it really was w… https://t.co/k0AfohxRvr\"),\n",
       " TextBlob(\"@porschespider @TheAvengersZone Amazing. I'm glad you did. I've seen it six times &amp; wasn't a huge #MCU fan. This is… https://t.co/8ISfzVBHgN\"),\n",
       " TextBlob(\"RT @AcidOli: Can we all make a pact to go see #EndGame again to get it to no.1 is the all-time box office\n",
       " \n",
       " It's only $140m behind Avatar\"),\n",
       " TextBlob(\"RT @LifeTeen: How many times have you seen #Endgame? \n",
       " \n",
       " If you've seen it at least once, check out this spoil-full blog about what this movi…\"),\n",
       " TextBlob(\"RT @SuppaDuppa666: I think he wouldn't have been able ...\n",
       " \n",
       " #endgame cc/ @DonCheadle https://t.co/HuQVkTrLtH\")]"
      ]
     },
     "execution_count": 20,
     "metadata": {},
     "output_type": "execute_result"
    }
   ],
   "source": [
    "## Instanciamos al objeto TextBlob cada tweet\n",
    "tweets_TB = [TextBlob(tweet_text) for tweet_text in tweets_text]\n",
    "tweets_TB[0:5]#convierte en onjeto de textblob"
   ]
  },
  {
   "cell_type": "code",
   "execution_count": 21,
   "metadata": {
    "colab": {},
    "colab_type": "code",
    "id": "VmRnsoVKseqz"
   },
   "outputs": [
    {
     "data": {
      "text/plain": [
       "[[0.2,\n",
       "  'Made it along to see #Avengers #Endgame tonight after all. Why did no one warn me I would cry?! But it really was w… https://t.co/k0AfohxRvr'],\n",
       " [0.5000000000000001,\n",
       "  \"@porschespider @TheAvengersZone Amazing. I'm glad you did. I've seen it six times &amp; wasn't a huge #MCU fan. This is… https://t.co/8ISfzVBHgN\"],\n",
       " [-0.2,\n",
       "  \"RT @AcidOli: Can we all make a pact to go see #EndGame again to get it to no.1 is the all-time box office\\n\\nIt's only $140m behind Avatar\"],\n",
       " [0.1,\n",
       "  \"RT @LifeTeen: How many times have you seen #Endgame? \\n\\nIf you've seen it at least once, check out this spoil-full blog about what this movi…\"],\n",
       " [0.5,\n",
       "  \"RT @SuppaDuppa666: I think he wouldn't have been able ...\\n\\n#endgame cc/ @DonCheadle https://t.co/HuQVkTrLtH\"]]"
      ]
     },
     "execution_count": 21,
     "metadata": {},
     "output_type": "execute_result"
    }
   ],
   "source": [
    "## Realizamos el análisis de polaridad para cada tweet\n",
    "tweets_sentiment = [[tweet_TB.sentiment.polarity, str(tweet_TB)] for tweet_TB in tweets_TB]\n",
    "tweets_sentiment[0:5]"
   ]
  },
  {
   "cell_type": "markdown",
   "metadata": {
    "colab_type": "text",
    "id": "HYYnVbZnza3c"
   },
   "source": [
    "## Crear el Dataset"
   ]
  },
  {
   "cell_type": "code",
   "execution_count": 22,
   "metadata": {
    "colab": {},
    "colab_type": "code",
    "id": "dVh3vIo0s-fK"
   },
   "outputs": [
    {
     "data": {
      "text/html": [
       "<div>\n",
       "<style scoped>\n",
       "    .dataframe tbody tr th:only-of-type {\n",
       "        vertical-align: middle;\n",
       "    }\n",
       "\n",
       "    .dataframe tbody tr th {\n",
       "        vertical-align: top;\n",
       "    }\n",
       "\n",
       "    .dataframe thead th {\n",
       "        text-align: right;\n",
       "    }\n",
       "</style>\n",
       "<table border=\"1\" class=\"dataframe\">\n",
       "  <thead>\n",
       "    <tr style=\"text-align: right;\">\n",
       "      <th></th>\n",
       "      <th>polarity</th>\n",
       "      <th>Tweet</th>\n",
       "    </tr>\n",
       "  </thead>\n",
       "  <tbody>\n",
       "    <tr>\n",
       "      <th>0</th>\n",
       "      <td>0.2</td>\n",
       "      <td>Made it along to see #Avengers #Endgame tonigh...</td>\n",
       "    </tr>\n",
       "    <tr>\n",
       "      <th>1</th>\n",
       "      <td>0.5</td>\n",
       "      <td>@porschespider @TheAvengersZone Amazing. I'm g...</td>\n",
       "    </tr>\n",
       "    <tr>\n",
       "      <th>2</th>\n",
       "      <td>-0.2</td>\n",
       "      <td>RT @AcidOli: Can we all make a pact to go see ...</td>\n",
       "    </tr>\n",
       "    <tr>\n",
       "      <th>3</th>\n",
       "      <td>0.1</td>\n",
       "      <td>RT @LifeTeen: How many times have you seen #En...</td>\n",
       "    </tr>\n",
       "    <tr>\n",
       "      <th>4</th>\n",
       "      <td>0.5</td>\n",
       "      <td>RT @SuppaDuppa666: I think he wouldn't have be...</td>\n",
       "    </tr>\n",
       "  </tbody>\n",
       "</table>\n",
       "</div>"
      ],
      "text/plain": [
       "   polarity                                              Tweet\n",
       "0       0.2  Made it along to see #Avengers #Endgame tonigh...\n",
       "1       0.5  @porschespider @TheAvengersZone Amazing. I'm g...\n",
       "2      -0.2  RT @AcidOli: Can we all make a pact to go see ...\n",
       "3       0.1  RT @LifeTeen: How many times have you seen #En...\n",
       "4       0.5  RT @SuppaDuppa666: I think he wouldn't have be..."
      ]
     },
     "execution_count": 22,
     "metadata": {},
     "output_type": "execute_result"
    }
   ],
   "source": [
    "import pandas as pd\n",
    "\n",
    "## Crear un dataset\n",
    "sentiment_df = pd.DataFrame(tweets_sentiment, columns =[\"polarity\",\"Tweet\"])\n",
    "sentiment_df.head()"
   ]
  },
  {
   "cell_type": "code",
   "execution_count": 0,
   "metadata": {
    "colab": {},
    "colab_type": "code",
    "id": "yCGrPWlwxl5J"
   },
   "outputs": [],
   "source": []
  },
  {
   "cell_type": "code",
   "execution_count": 0,
   "metadata": {
    "colab": {},
    "colab_type": "code",
    "id": "XswaBzeRtpO-"
   },
   "outputs": [],
   "source": []
  },
  {
   "cell_type": "markdown",
   "metadata": {
    "colab_type": "text",
    "id": "NiaiyF7dzeqe"
   },
   "source": [
    "## Visualización"
   ]
  },
  {
   "cell_type": "code",
   "execution_count": 23,
   "metadata": {
    "colab": {},
    "colab_type": "code",
    "id": "6EO23L5gxJ37"
   },
   "outputs": [],
   "source": [
    "import matplotlib.pyplot as plt"
   ]
  },
  {
   "cell_type": "code",
   "execution_count": 24,
   "metadata": {
    "colab": {},
    "colab_type": "code",
    "id": "fab4ZaPtxhMx"
   },
   "outputs": [
    {
     "data": {
      "image/png": "[encoded data removed]",
      "text/plain": [
       "<Figure size 432x288 with 1 Axes>"
      ]
     },
     "metadata": {
      "needs_background": "light"
     },
     "output_type": "display_data"
    }
   ],
   "source": [
    "## Histograma de Frecuencias\n",
    "plt.hist(sentiment_df[\"polarity\"], color = \"blue\")\n",
    "plt.ylabel(\"frecuencias\")\n",
    "plt.show()"
   ]
  },
  {
   "cell_type": "code",
   "execution_count": 0,
   "metadata": {
    "colab": {},
    "colab_type": "code",
    "id": "F8V_iTHGx7ni"
   },
   "outputs": [],
   "source": [
    "## Barras"
   ]
  },
  {
   "cell_type": "markdown",
   "metadata": {
    "colab_type": "text",
    "id": "Qu699n9q0U76"
   },
   "source": [
    "## Word Cloud"
   ]
  },
  {
   "cell_type": "code",
   "execution_count": 26,
   "metadata": {},
   "outputs": [
    {
     "name": "stdout",
     "output_type": "stream",
     "text": [
      "Collecting wordcloud\n",
      "  Downloading https://files.pythonhosted.org/packages/23/4e/1254d26ce5d36facdcbb5820e7e434328aed68e99938c75c9d4e2fee5efb/wordcloud-1.5.0-cp37-cp37m-win_amd64.whl (153kB)\n",
      "Requirement already satisfied: numpy>=1.6.1 in c:\\users\\noy-4\\anaconda3\\lib\\site-packages (from wordcloud) (1.15.1)\n",
      "Requirement already satisfied: pillow in c:\\users\\noy-4\\anaconda3\\lib\\site-packages (from wordcloud) (5.2.0)\n",
      "Installing collected packages: wordcloud\n",
      "Successfully installed wordcloud-1.5.0\n"
     ]
    },
    {
     "name": "stderr",
     "output_type": "stream",
     "text": [
      "You are using pip version 19.0.3, however version 19.1.1 is available.\n",
      "You should consider upgrading via the 'python -m pip install --upgrade pip' command.\n"
     ]
    }
   ],
   "source": [
    "!pip install wordcloud"
   ]
  },
  {
   "cell_type": "code",
   "execution_count": 27,
   "metadata": {
    "colab": {},
    "colab_type": "code",
    "id": "R-JOnaQ70ULX"
   },
   "outputs": [],
   "source": [
    "from wordcloud import WordCloud, STOPWORDS, ImageColorGenerator"
   ]
  },
  {
   "cell_type": "code",
   "execution_count": 0,
   "metadata": {
    "colab": {},
    "colab_type": "code",
    "id": "NUEZjMJu2LQu"
   },
   "outputs": [],
   "source": []
  },
  {
   "cell_type": "code",
   "execution_count": 0,
   "metadata": {
    "colab": {},
    "colab_type": "code",
    "id": "rhzKM8wh2LT8"
   },
   "outputs": [],
   "source": [
    "# Generamos una nube de palabras"
   ]
  },
  {
   "cell_type": "code",
   "execution_count": 0,
   "metadata": {
    "colab": {},
    "colab_type": "code",
    "id": "QrnlVOdF2hoJ"
   },
   "outputs": [],
   "source": [
    "# Mostramos la imagen generada"
   ]
  },
  {
   "cell_type": "code",
   "execution_count": 28,
   "metadata": {
    "colab": {},
    "colab_type": "code",
    "id": "vUXCFD0L2mv4"
   },
   "outputs": [
    {
     "data": {
      "text/plain": [
       "'Made it along to see #Avengers #Endgame tonight after all. Why did no one warn me I would cry?! But it really was w… https://t.co/k0AfohxRvr'"
      ]
     },
     "execution_count": 28,
     "metadata": {},
     "output_type": "execute_result"
    }
   ],
   "source": [
    "## Seleccionamos el primer Tweet\n",
    "sentiment_df.Tweet[0]"
   ]
  },
  {
   "cell_type": "code",
   "execution_count": 29,
   "metadata": {
    "colab": {},
    "colab_type": "code",
    "id": "F3V2WKMZ0UjA"
   },
   "outputs": [],
   "source": [
    "## Generamos la imagen\n",
    "worl_cloud = WordCloud().generate(sentiment_df.Tweet[0])"
   ]
  },
  {
   "cell_type": "code",
   "execution_count": 30,
   "metadata": {},
   "outputs": [
    {
     "data": {
      "image/png": "[encoded data removed]",
      "text/plain": [
       "<Figure size 432x288 with 1 Axes>"
      ]
     },
     "metadata": {
      "needs_background": "light"
     },
     "output_type": "display_data"
    }
   ],
   "source": [
    "plt.imshow(worl_cloud,interpolation =\"bilinear\")\n",
    "plt.axis(\"off\")\n",
    "plt.show()"
   ]
  }
 ],
 "metadata": {
  "colab": {
   "collapsed_sections": [],
   "name": "Tweepy",
   "provenance": [],
   "version": "0.3.2"
  },
  "kernelspec": {
   "display_name": "Python 3",
   "language": "python",
   "name": "python3"
  },
  "language_info": {
   "codemirror_mode": {
    "name": "ipython",
    "version": 3
   },
   "file_extension": ".py",
   "mimetype": "text/x-python",
   "name": "python",
   "nbconvert_exporter": "python",
   "pygments_lexer": "ipython3",
   "version": "3.7.0"
  }
 },
 "nbformat": 4,
 "nbformat_minor": 1
}
