{
 "cells": [
  {
   "cell_type": "code",
   "execution_count": 2,
   "metadata": {},
   "outputs": [
    {
     "name": "stdout",
     "output_type": "stream",
     "text": [
      "Collecting efficient-apriori\n",
      "  Downloading https://files.pythonhosted.org/packages/5b/cb/cd06eb983e4a67d9b127df6e3ece87dd7ebea145daa4250929531315bbff/efficient_apriori-1.0.0-py3-none-any.whl\n",
      "Installing collected packages: efficient-apriori\n",
      "Successfully installed efficient-apriori-1.0.0\n"
     ]
    }
   ],
   "source": [
    "!pip install efficient-apriori"
   ]
  },
  {
   "cell_type": "code",
   "execution_count": 53,
   "metadata": {},
   "outputs": [
    {
     "name": "stderr",
     "output_type": "stream",
     "text": [
      "IOPub data rate exceeded.\n",
      "The notebook server will temporarily stop sending output\n",
      "to the client in order to avoid crashing it.\n",
      "To change this limit, set the config variable\n",
      "`--NotebookApp.iopub_data_rate_limit`.\n",
      "\n",
      "Current values:\n",
      "NotebookApp.iopub_data_rate_limit=1000000.0 (bytes/sec)\n",
      "NotebookApp.rate_limit_window=3.0 (secs)\n",
      "\n"
     ]
    }
   ],
   "source": [
    "from efficient_apriori import apriori\n",
    "transactions = [\n",
    "('33','34','35'),\n",
    "('36','37','38','39','40','41','42','43','44','45','46' ),\n",
    "('38' '39' '47' '48' ),\n",
    "('38' '39' '48' '49' '50' '51' '52' '53' '54' '55' '56' '57' '58' ),\n",
    "('32' '41' '59' '60' )\n",
    "]\n",
    "itemsets, rules = apriori(transactions, min_support=0.2,  min_confidence=1)\n",
    "print(rules)"
   ]
  },
  {
   "cell_type": "code",
   "execution_count": 45,
   "metadata": {},
   "outputs": [],
   "source": [
    "lista = [['MILK', 'BREAD', 'BISCUIT'],\n",
    " ['BREAD', 'MILK', 'BISCUIT', 'CORNFLAKES'],\n",
    " ['BREAD', 'TEA', 'BOURNVITA'],\n",
    " ['JAM', 'MAGGI', 'BREAD', 'MILK'],\n",
    " ['MAGGI', 'TEA', 'BISCUIT'],\n",
    " ['BREAD', 'TEA', 'BOURNVITA'],\n",
    " ['MAGGI', 'TEA', 'CORNFLAKES'],\n",
    " ['MAGGI', 'BREAD', 'TEA', 'BISCUIT'],\n",
    " ['JAM', 'MAGGI', 'BREAD', 'TEA'],\n",
    " ['BREAD', 'MILK'],\n",
    " ['COFFEE', 'COCK', 'BISCUIT', 'CORNFLAKES'],\n",
    " ['COFFEE', 'COCK', 'BISCUIT', 'CORNFLAKES'],\n",
    " ['COFFEE', 'SUGER', 'BOURNVITA'],\n",
    " ['BREAD', 'COFFEE', 'COCK'],\n",
    " ['BREAD', 'SUGER', 'BISCUIT'],\n",
    " ['COFFEE', 'SUGER', 'CORNFLAKES'],\n",
    " ['BREAD', 'SUGER', 'BOURNVITA'],\n",
    " ['BREAD', 'COFFEE', 'SUGER'],\n",
    " ['BREAD', 'COFFEE', 'SUGER'],\n",
    " ['TEA', 'MILK', 'COFFEE', 'CORNFLAKES']]"
   ]
  },
  {
   "cell_type": "code",
   "execution_count": 46,
   "metadata": {},
   "outputs": [
    {
     "data": {
      "text/plain": [
       "[['MILK', 'BREAD', 'BISCUIT'], ['BREAD', 'MILK', 'BISCUIT', 'CORNFLAKES']]"
      ]
     },
     "execution_count": 46,
     "metadata": {},
     "output_type": "execute_result"
    }
   ],
   "source": [
    "lista[:2]"
   ]
  },
  {
   "cell_type": "code",
   "execution_count": 47,
   "metadata": {},
   "outputs": [
    {
     "name": "stdout",
     "output_type": "stream",
     "text": [
      "[]\n"
     ]
    }
   ],
   "source": [
    "frecuencias, roles = apriori(lista[:5], min_support=0.9,  min_confidence=1)\n",
    "print(roles)"
   ]
  },
  {
   "cell_type": "code",
   "execution_count": 51,
   "metadata": {},
   "outputs": [
    {
     "name": "stdout",
     "output_type": "stream",
     "text": [
      "[]\n"
     ]
    }
   ],
   "source": [
    "def data_generator(filename):\n",
    "    def data_gen():\n",
    "        with open(filename) as file:\n",
    "            for line in file:\n",
    "                #print(line.split(\",\"))\n",
    "                yield tuple(k.strip() for k in line.split())\n",
    "    return data_gen\n",
    "\n",
    "transactions = data_generator('retail.data')\n",
    "itemsets, rules = apriori(transactions, min_support=0.9, min_confidence=0.6)\n",
    "print(rules)"
   ]
  },
  {
   "cell_type": "code",
   "execution_count": null,
   "metadata": {},
   "outputs": [],
   "source": []
  }
 ],
 "metadata": {
  "kernelspec": {
   "display_name": "Python 3",
   "language": "python",
   "name": "python3"
  },
  "language_info": {
   "codemirror_mode": {
    "name": "ipython",
    "version": 3
   },
   "file_extension": ".py",
   "mimetype": "text/x-python",
   "name": "python",
   "nbconvert_exporter": "python",
   "pygments_lexer": "ipython3",
   "version": "3.7.0"
  }
 },
 "nbformat": 4,
 "nbformat_minor": 2
}
