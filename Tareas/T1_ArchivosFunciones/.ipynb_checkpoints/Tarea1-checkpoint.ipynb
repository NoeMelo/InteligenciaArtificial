{
 "cells": [
  {
   "cell_type": "markdown",
   "metadata": {},
   "source": [
    "# Ejercicios "
   ]
  },
  {
   "cell_type": "markdown",
   "metadata": {},
   "source": [
    "**1. Función para Leer archivo y retornar una lista con las palabras que tengan más de 2 caracteres**"
   ]
  },
  {
   "cell_type": "code",
   "execution_count": 1,
   "metadata": {},
   "outputs": [],
   "source": [
    "def leerArchivo(nombreArch):\n",
    "    f = open(nombreArch,'r',encoding='utf-8')\n",
    "    lineas = f.readlines()\n",
    "    f.close()\n",
    "    newList = []\n",
    "    for linea in lineas:\n",
    "        newArray = []\n",
    "        for i in linea.split():\n",
    "            if len(i)>2:\n",
    "                #print(i)\n",
    "                newArray.append(i)\n",
    "        newList.append(\" \".join(newArray))\n",
    "    return newList"
   ]
  },
  {
   "cell_type": "code",
   "execution_count": 2,
   "metadata": {},
   "outputs": [],
   "source": [
    "lineas = leerArchivo('Eclesiastes1.txt')"
   ]
  },
  {
   "cell_type": "code",
   "execution_count": 3,
   "metadata": {},
   "outputs": [
    {
     "data": {
      "text/plain": [
       "['Todo vanidad',\n",
       " '',\n",
       " 'Palabras del Predicador, hijo David, rey Jerusalén.',\n",
       " '',\n",
       " 'Vanidad vanidades, dijo Predicador; vanidad vanidades, todo vanidad.',\n",
       " '',\n",
       " '¿Qué provecho tiene hombre todo trabajo con que afana debajo del sol?',\n",
       " '',\n",
       " 'Generación va, generación viene; mas tierra siempre permanece.',\n",
       " '',\n",
       " 'Sale sol, pone sol, apresura volver lugar donde levanta.',\n",
       " '',\n",
       " 'viento tira hacia sur, rodea norte; girando continuo, sus giros vuelve viento nuevo.',\n",
       " '',\n",
       " 'Los ríos todos van mar, mar llena; lugar donde los ríos vinieron, allí vuelven para correr nuevo.',\n",
       " '',\n",
       " 'Todas las cosas son fatigosas más que hombre puede expresar; nunca sacia ojo ver, oído oír.',\n",
       " '',\n",
       " '¿Qué que fue? mismo que será. ¿Qué que sido hecho? mismo que hará; nada hay nuevo debajo del sol.',\n",
       " '',\n",
       " '¿Hay algo que puede decir: aquí esto nuevo? fue los siglos que nos han precedido.',\n",
       " '',\n",
       " 'hay memoria que precedió, tampoco que sucederá habrá memoria los que serán después.']"
      ]
     },
     "execution_count": 3,
     "metadata": {},
     "output_type": "execute_result"
    }
   ],
   "source": [
    "lineas"
   ]
  },
  {
   "cell_type": "markdown",
   "metadata": {},
   "source": [
    "**2. Implementar una función recursiva para generar la secuencia de Fibbonaci**\n",
    "\n",
    "Fibonacci: Funcion Recursiva"
   ]
  },
  {
   "cell_type": "code",
   "execution_count": 4,
   "metadata": {},
   "outputs": [],
   "source": [
    "def fibonacci(n):\n",
    "    if n == 0:\n",
    "        return 0\n",
    "    elif n == 1:\n",
    "        return 1\n",
    "    else:\n",
    "        return fibonacci(n-2) + fibonacci(n-1)    "
   ]
  },
  {
   "cell_type": "code",
   "execution_count": 6,
   "metadata": {},
   "outputs": [
    {
     "data": {
      "text/plain": [
       "6765"
      ]
     },
     "execution_count": 6,
     "metadata": {},
     "output_type": "execute_result"
    }
   ],
   "source": [
    "fibonacci(20)"
   ]
  },
  {
   "cell_type": "markdown",
   "metadata": {},
   "source": [
    "Fibonacci: Funcion Normal"
   ]
  },
  {
   "cell_type": "code",
   "execution_count": 7,
   "metadata": {},
   "outputs": [],
   "source": [
    "def fibonacci(n):\n",
    "    a = 0\n",
    "    b = 1\n",
    "    for i in range(n+1):\n",
    "        r = 0\n",
    "        if i == 0:\n",
    "            r = a\n",
    "        elif i == 1:\n",
    "            r = b\n",
    "        else:\n",
    "            c = a + b\n",
    "            a = b\n",
    "            b = c\n",
    "            r = c\n",
    "    return r"
   ]
  },
  {
   "cell_type": "code",
   "execution_count": 8,
   "metadata": {},
   "outputs": [
    {
     "data": {
      "text/plain": [
       "6765"
      ]
     },
     "execution_count": 8,
     "metadata": {},
     "output_type": "execute_result"
    }
   ],
   "source": [
    "fibonacci(20)"
   ]
  },
  {
   "cell_type": "markdown",
   "metadata": {},
   "source": [
    "**3. Crear un directorio con el nombre IA, y generar 50 carpetas dentro de ese directorio con los** **nombres 1, 2, 3, 4,...,50. Para cada carpeta creada, crear un archivo (TXT) dentro de la carpeta**\n",
    "**con el nombre de la misma carpeta.**\n",
    "**El archivo debe contener la frase:**\n",
    "**\"Inteligencia ArtificialAvanzada \" + nombre del archivo:\"Inteligencia Artificial Avanzada 1\"**"
   ]
  },
  {
   "cell_type": "code",
   "execution_count": 9,
   "metadata": {},
   "outputs": [],
   "source": [
    "import os"
   ]
  },
  {
   "cell_type": "code",
   "execution_count": 29,
   "metadata": {},
   "outputs": [],
   "source": [
    "name1 = os.getcwd()\n",
    "os.mkdir(\"IA\")\n",
    "os.chdir('IA')#accede\n",
    "name2 = os.getcwd()#guarda dir actual\n",
    "for i in range(50):\n",
    "    os.mkdir(str(i+1))#crea\n",
    "    os.chdir(str(i+1))#accede\n",
    "    a = open(str(i+1)+\".txt\",'w')#crea archivo txt\n",
    "    a.write(\"Inteligencia Artificial Avanzada \" + str(i+1))\n",
    "    a.close()\n",
    "    os.chdir(name2)#regresa a carpeta IA\n",
    "os.chdir(name1)#regresa a la carpeta de trabajo principal"
   ]
  },
  {
   "cell_type": "code",
   "execution_count": 30,
   "metadata": {},
   "outputs": [
    {
     "data": {
      "text/plain": [
       "'C:\\\\Users\\\\noy-4\\\\Desktop\\\\IA\\\\InteligenciaArtificial\\\\Tareas\\\\PrimerTarea'"
      ]
     },
     "execution_count": 30,
     "metadata": {},
     "output_type": "execute_result"
    }
   ],
   "source": [
    "name1 = os.getcwd()#verificamos direccion actual\n",
    "name1"
   ]
  },
  {
   "cell_type": "code",
   "execution_count": 62,
   "metadata": {},
   "outputs": [
    {
     "name": "stdout",
     "output_type": "stream",
     "text": [
      "['Inteligencia Artificial Avanzada 50']\n"
     ]
    }
   ],
   "source": [
    "d = open(\"IA/50/50.txt\",'r')#verificamos archivos creados\n",
    "print(d.readlines())\n",
    "d.close()"
   ]
  },
  {
   "cell_type": "markdown",
   "metadata": {},
   "source": [
    "**4. Realizar una función que reciba un matriz (numpy), y las posiciones  X,Y. \n",
    "Retornar una submatriz de esa matriz en función a las posiciones**"
   ]
  },
  {
   "cell_type": "code",
   "execution_count": 48,
   "metadata": {},
   "outputs": [],
   "source": [
    "import numpy as np"
   ]
  },
  {
   "cell_type": "code",
   "execution_count": 49,
   "metadata": {},
   "outputs": [],
   "source": [
    "def submatriz(M,X,Y):#funcion que retorna submatriz\n",
    "    return M[X:,Y:]"
   ]
  },
  {
   "cell_type": "code",
   "execution_count": 51,
   "metadata": {
    "scrolled": false
   },
   "outputs": [
    {
     "data": {
      "text/plain": [
       "array([[0.02984115, 0.15712801, 0.77211572, 0.84647882],\n",
       "       [0.95465139, 0.17597816, 0.6787779 , 0.70114804],\n",
       "       [0.41355932, 0.76719666, 0.13519887, 0.61530698],\n",
       "       [0.51584443, 0.56005989, 0.61201868, 0.91623329]])"
      ]
     },
     "execution_count": 51,
     "metadata": {},
     "output_type": "execute_result"
    }
   ],
   "source": [
    "R = np.random.rand(4,4)#generamos matriz\n",
    "R"
   ]
  },
  {
   "cell_type": "code",
   "execution_count": 52,
   "metadata": {
    "scrolled": true
   },
   "outputs": [
    {
     "data": {
      "text/plain": [
       "array([[0.77211572, 0.84647882],\n",
       "       [0.6787779 , 0.70114804],\n",
       "       [0.13519887, 0.61530698],\n",
       "       [0.61201868, 0.91623329]])"
      ]
     },
     "execution_count": 52,
     "metadata": {},
     "output_type": "execute_result"
    }
   ],
   "source": [
    "submatriz(R,0,2)#llamamos funcion"
   ]
  },
  {
   "cell_type": "code",
   "execution_count": 55,
   "metadata": {},
   "outputs": [
    {
     "data": {
      "text/plain": [
       "array([[0.77211572, 0.84647882],\n",
       "       [0.6787779 , 0.70114804],\n",
       "       [0.13519887, 0.61530698],\n",
       "       [0.61201868, 0.91623329]])"
      ]
     },
     "execution_count": 55,
     "metadata": {},
     "output_type": "execute_result"
    }
   ],
   "source": [
    "R[0:,2:]#comprobamos"
   ]
  },
  {
   "cell_type": "code",
   "execution_count": null,
   "metadata": {},
   "outputs": [],
   "source": []
  }
 ],
 "metadata": {
  "kernelspec": {
   "display_name": "Python 3",
   "language": "python",
   "name": "python3"
  },
  "language_info": {
   "codemirror_mode": {
    "name": "ipython",
    "version": 3
   },
   "file_extension": ".py",
   "mimetype": "text/x-python",
   "name": "python",
   "nbconvert_exporter": "python",
   "pygments_lexer": "ipython3",
   "version": "3.7.0"
  }
 },
 "nbformat": 4,
 "nbformat_minor": 2
}
