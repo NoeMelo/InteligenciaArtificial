{
 "cells": [
  {
   "cell_type": "markdown",
   "metadata": {},
   "source": [
    "# Leer Datos"
   ]
  },
  {
   "cell_type": "code",
   "execution_count": 1,
   "metadata": {},
   "outputs": [],
   "source": [
    "import pandas as pd\n",
    "import numpy as np"
   ]
  },
  {
   "cell_type": "code",
   "execution_count": 105,
   "metadata": {},
   "outputs": [
    {
     "data": {
      "text/html": [
       "<div>\n",
       "<style scoped>\n",
       "    .dataframe tbody tr th:only-of-type {\n",
       "        vertical-align: middle;\n",
       "    }\n",
       "\n",
       "    .dataframe tbody tr th {\n",
       "        vertical-align: top;\n",
       "    }\n",
       "\n",
       "    .dataframe thead th {\n",
       "        text-align: right;\n",
       "    }\n",
       "</style>\n",
       "<table border=\"1\" class=\"dataframe\">\n",
       "  <thead>\n",
       "    <tr style=\"text-align: right;\">\n",
       "      <th></th>\n",
       "      <th>Y</th>\n",
       "      <th>X1</th>\n",
       "      <th>X2</th>\n",
       "      <th>X3</th>\n",
       "      <th>Unnamed: 4</th>\n",
       "      <th>Unnamed: 5</th>\n",
       "      <th>Unnamed: 6</th>\n",
       "    </tr>\n",
       "  </thead>\n",
       "  <tbody>\n",
       "    <tr>\n",
       "      <th>0</th>\n",
       "      <td>250.0</td>\n",
       "      <td>76.0</td>\n",
       "      <td>80.0</td>\n",
       "      <td>13.5</td>\n",
       "      <td>NaN</td>\n",
       "      <td>NaN</td>\n",
       "      <td>NaN</td>\n",
       "    </tr>\n",
       "    <tr>\n",
       "      <th>1</th>\n",
       "      <td>220.0</td>\n",
       "      <td>61.0</td>\n",
       "      <td>72.0</td>\n",
       "      <td>12.1</td>\n",
       "      <td>NaN</td>\n",
       "      <td>NaN</td>\n",
       "      <td>NaN</td>\n",
       "    </tr>\n",
       "    <tr>\n",
       "      <th>2</th>\n",
       "      <td>200.0</td>\n",
       "      <td>50.0</td>\n",
       "      <td>70.0</td>\n",
       "      <td>11.6</td>\n",
       "      <td>NaN</td>\n",
       "      <td>NaN</td>\n",
       "      <td>NaN</td>\n",
       "    </tr>\n",
       "    <tr>\n",
       "      <th>3</th>\n",
       "      <td>350.0</td>\n",
       "      <td>94.0</td>\n",
       "      <td>122.0</td>\n",
       "      <td>12.5</td>\n",
       "      <td>NaN</td>\n",
       "      <td>NaN</td>\n",
       "      <td>NaN</td>\n",
       "    </tr>\n",
       "    <tr>\n",
       "      <th>4</th>\n",
       "      <td>210.0</td>\n",
       "      <td>55.0</td>\n",
       "      <td>75.0</td>\n",
       "      <td>13.5</td>\n",
       "      <td>NaN</td>\n",
       "      <td>NaN</td>\n",
       "      <td>NaN</td>\n",
       "    </tr>\n",
       "  </tbody>\n",
       "</table>\n",
       "</div>"
      ],
      "text/plain": [
       "       Y    X1     X2    X3  Unnamed: 4  Unnamed: 5  Unnamed: 6\n",
       "0  250.0  76.0   80.0  13.5         NaN         NaN         NaN\n",
       "1  220.0  61.0   72.0  12.1         NaN         NaN         NaN\n",
       "2  200.0  50.0   70.0  11.6         NaN         NaN         NaN\n",
       "3  350.0  94.0  122.0  12.5         NaN         NaN         NaN\n",
       "4  210.0  55.0   75.0  13.5         NaN         NaN         NaN"
      ]
     },
     "execution_count": 105,
     "metadata": {},
     "output_type": "execute_result"
    }
   ],
   "source": [
    "data = pd.read_csv(\"datos_LinearRegression.csv\",delimiter=\";\")\n",
    "data.head(5)"
   ]
  },
  {
   "cell_type": "code",
   "execution_count": 106,
   "metadata": {},
   "outputs": [
    {
     "data": {
      "text/plain": [
       "Y             13\n",
       "X1            13\n",
       "X2            13\n",
       "X3            13\n",
       "Unnamed: 4    21\n",
       "Unnamed: 5    21\n",
       "Unnamed: 6    21\n",
       "dtype: int64"
      ]
     },
     "execution_count": 106,
     "metadata": {},
     "output_type": "execute_result"
    }
   ],
   "source": [
    "data.isnull().sum()"
   ]
  },
  {
   "cell_type": "code",
   "execution_count": 107,
   "metadata": {},
   "outputs": [
    {
     "data": {
      "text/html": [
       "<div>\n",
       "<style scoped>\n",
       "    .dataframe tbody tr th:only-of-type {\n",
       "        vertical-align: middle;\n",
       "    }\n",
       "\n",
       "    .dataframe tbody tr th {\n",
       "        vertical-align: top;\n",
       "    }\n",
       "\n",
       "    .dataframe thead th {\n",
       "        text-align: right;\n",
       "    }\n",
       "</style>\n",
       "<table border=\"1\" class=\"dataframe\">\n",
       "  <thead>\n",
       "    <tr style=\"text-align: right;\">\n",
       "      <th></th>\n",
       "      <th>Y</th>\n",
       "      <th>X1</th>\n",
       "      <th>X2</th>\n",
       "      <th>X3</th>\n",
       "    </tr>\n",
       "  </thead>\n",
       "  <tbody>\n",
       "    <tr>\n",
       "      <th>0</th>\n",
       "      <td>250.0</td>\n",
       "      <td>76.0</td>\n",
       "      <td>80.0</td>\n",
       "      <td>13.5</td>\n",
       "    </tr>\n",
       "    <tr>\n",
       "      <th>1</th>\n",
       "      <td>220.0</td>\n",
       "      <td>61.0</td>\n",
       "      <td>72.0</td>\n",
       "      <td>12.1</td>\n",
       "    </tr>\n",
       "    <tr>\n",
       "      <th>2</th>\n",
       "      <td>200.0</td>\n",
       "      <td>50.0</td>\n",
       "      <td>70.0</td>\n",
       "      <td>11.6</td>\n",
       "    </tr>\n",
       "    <tr>\n",
       "      <th>3</th>\n",
       "      <td>350.0</td>\n",
       "      <td>94.0</td>\n",
       "      <td>122.0</td>\n",
       "      <td>12.5</td>\n",
       "    </tr>\n",
       "    <tr>\n",
       "      <th>4</th>\n",
       "      <td>210.0</td>\n",
       "      <td>55.0</td>\n",
       "      <td>75.0</td>\n",
       "      <td>13.5</td>\n",
       "    </tr>\n",
       "  </tbody>\n",
       "</table>\n",
       "</div>"
      ],
      "text/plain": [
       "       Y    X1     X2    X3\n",
       "0  250.0  76.0   80.0  13.5\n",
       "1  220.0  61.0   72.0  12.1\n",
       "2  200.0  50.0   70.0  11.6\n",
       "3  350.0  94.0  122.0  12.5\n",
       "4  210.0  55.0   75.0  13.5"
      ]
     },
     "execution_count": 107,
     "metadata": {},
     "output_type": "execute_result"
    }
   ],
   "source": [
    "data = data.iloc[:,0:4]\n",
    "data.dropna(how=\"all\",axis=0, inplace=True)\n",
    "data.head()"
   ]
  },
  {
   "cell_type": "code",
   "execution_count": 108,
   "metadata": {},
   "outputs": [
    {
     "data": {
      "text/plain": [
       "Y     0\n",
       "X1    0\n",
       "X2    0\n",
       "X3    0\n",
       "dtype: int64"
      ]
     },
     "execution_count": 108,
     "metadata": {},
     "output_type": "execute_result"
    }
   ],
   "source": [
    "data.isna().sum()"
   ]
  },
  {
   "cell_type": "markdown",
   "metadata": {},
   "source": [
    "# Regresion Lineal - Paso a Paso"
   ]
  },
  {
   "cell_type": "code",
   "execution_count": 135,
   "metadata": {},
   "outputs": [
    {
     "name": "stdout",
     "output_type": "stream",
     "text": [
      "float64\n",
      "float64\n"
     ]
    }
   ],
   "source": [
    "xi = np.array(data.iloc[:,1:].values)\n",
    "y = np.array(data.iloc[:,:1].values)\n",
    "print(x.dtype)\n",
    "print(y.dtype)"
   ]
  },
  {
   "cell_type": "code",
   "execution_count": 110,
   "metadata": {},
   "outputs": [
    {
     "data": {
      "text/plain": [
       "array([[  1. ,  76. ,  80. ,  13.5],\n",
       "       [  1. ,  61. ,  72. ,  12.1],\n",
       "       [  1. ,  50. ,  70. ,  11.6],\n",
       "       [  1. ,  94. , 122. ,  12.5],\n",
       "       [  1. ,  55. ,  75. ,  13.5],\n",
       "       [  1. ,  61. ,  95. ,  14. ],\n",
       "       [  1. ,  80. , 120. ,  12.5],\n",
       "       [  1. ,  52. ,  68. ,  14.5]])"
      ]
     },
     "execution_count": 110,
     "metadata": {},
     "output_type": "execute_result"
    }
   ],
   "source": [
    "x = np.ones((8,1))\n",
    "x = np.append(x,xi,1)#add new ones column\n",
    "x"
   ]
  },
  {
   "cell_type": "code",
   "execution_count": 111,
   "metadata": {},
   "outputs": [
    {
     "data": {
      "text/plain": [
       "array([[  1. ,   1. ,   1. ,   1. ,   1. ,   1. ,   1. ,   1. ],\n",
       "       [ 76. ,  61. ,  50. ,  94. ,  55. ,  61. ,  80. ,  52. ],\n",
       "       [ 80. ,  72. ,  70. , 122. ,  75. ,  95. , 120. ,  68. ],\n",
       "       [ 13.5,  12.1,  11.6,  12.5,  13.5,  14. ,  12.5,  14.5]])"
      ]
     },
     "execution_count": 111,
     "metadata": {},
     "output_type": "execute_result"
    }
   ],
   "source": [
    "xt = np.matrix.transpose(x)#transpuesta\n",
    "xt"
   ]
  },
  {
   "cell_type": "code",
   "execution_count": 112,
   "metadata": {},
   "outputs": [
    {
     "data": {
      "text/plain": [
       "array([[8.00000e+00, 5.29000e+02, 7.02000e+02, 1.04200e+02],\n",
       "       [5.29000e+02, 3.66830e+04, 4.84960e+04, 6.86960e+03],\n",
       "       [7.02000e+02, 4.84960e+04, 6.50420e+04, 9.11670e+03],\n",
       "       [1.04200e+02, 6.86960e+03, 9.11670e+03, 1.36422e+03]])"
      ]
     },
     "execution_count": 112,
     "metadata": {},
     "output_type": "execute_result"
    }
   ],
   "source": [
    "XtX = np.matmul(xt,x)#multiplicación\n",
    "XtX"
   ]
  },
  {
   "cell_type": "code",
   "execution_count": 113,
   "metadata": {},
   "outputs": [
    {
     "data": {
      "text/plain": [
       "array([[ 3.10721260e+01, -4.94025151e-02, -1.16605171e-02,\n",
       "        -2.04661607e+00],\n",
       "       [-4.94025151e-02,  2.23514376e-03, -1.33711555e-03,\n",
       "         1.45378298e-03],\n",
       "       [-1.16605171e-02, -1.33711555e-03,  1.09940893e-03,\n",
       "         2.76710124e-04],\n",
       "       [-2.04661607e+00,  1.45378298e-03,  2.76710124e-04,\n",
       "         1.47885095e-01]])"
      ]
     },
     "execution_count": 113,
     "metadata": {},
     "output_type": "execute_result"
    }
   ],
   "source": [
    "inverse = np.linalg.inv(XtX)\n",
    "inverse"
   ]
  },
  {
   "cell_type": "code",
   "execution_count": 114,
   "metadata": {},
   "outputs": [
    {
     "data": {
      "text/plain": [
       "array([[  1910. ],\n",
       "       [132055. ],\n",
       "       [174885. ],\n",
       "       [ 24754.5]])"
      ]
     },
     "execution_count": 114,
     "metadata": {},
     "output_type": "execute_result"
    }
   ],
   "source": [
    "XtY = np.matmul(xt,y)#multiplicacion xt * y\n",
    "XtY"
   ]
  },
  {
   "cell_type": "code",
   "execution_count": 115,
   "metadata": {},
   "outputs": [
    {
     "data": {
      "text/plain": [
       "array([[121.70448779],\n",
       "       [  2.94932354],\n",
       "       [  0.27556962],\n",
       "       [ -7.84335821]])"
      ]
     },
     "execution_count": 115,
     "metadata": {},
     "output_type": "execute_result"
    }
   ],
   "source": [
    "w = np.matmul(inverse,XtY)\n",
    "w"
   ]
  },
  {
   "cell_type": "code",
   "execution_count": 116,
   "metadata": {},
   "outputs": [
    {
     "data": {
      "text/plain": [
       "81.09412485"
      ]
     },
     "execution_count": 116,
     "metadata": {},
     "output_type": "execute_result"
    }
   ],
   "source": [
    "-7.84335821*6 + 0.27556962*2 + 2.94932354*2 + 121.70448779"
   ]
  },
  {
   "cell_type": "markdown",
   "metadata": {},
   "source": [
    "# Regresion en una función"
   ]
  },
  {
   "cell_type": "code",
   "execution_count": 132,
   "metadata": {},
   "outputs": [],
   "source": [
    "def regresionLineal(x,y):\n",
    "    x1 = np.ones((len(x),1))\n",
    "    x = np.append(x1,x,1)#add ones matriz axis 0\n",
    "    xt = np.matrix.transpose(x)#transpuesta\n",
    "    w = []\n",
    "    w = np.matmul(np.linalg.inv(np.matmul(xt,x)),np.matmul(xt,y))\n",
    "    return np.concatenate(w)"
   ]
  },
  {
   "cell_type": "code",
   "execution_count": 133,
   "metadata": {},
   "outputs": [],
   "source": [
    "def predecir(model,X):\n",
    "    resul = 0\n",
    "    i=0\n",
    "    for w in model:\n",
    "        if i==0:\n",
    "            resul = resul + w\n",
    "        else:\n",
    "            resul = resul + w*X[i-1]\n",
    "        i=i+1\n",
    "    return resul"
   ]
  },
  {
   "cell_type": "markdown",
   "metadata": {},
   "source": [
    "**Modelo**"
   ]
  },
  {
   "cell_type": "code",
   "execution_count": 136,
   "metadata": {},
   "outputs": [
    {
     "data": {
      "text/plain": [
       "array([121.70448779,   2.94932354,   0.27556962,  -7.84335821])"
      ]
     },
     "execution_count": 136,
     "metadata": {},
     "output_type": "execute_result"
    }
   ],
   "source": [
    "modelo = regresionLineal(xi,y)\n",
    "modelo\n",
    "#[w0,w1,w2,w3,...,wn]"
   ]
  },
  {
   "cell_type": "markdown",
   "metadata": {},
   "source": [
    "**Prediccion**"
   ]
  },
  {
   "cell_type": "code",
   "execution_count": 137,
   "metadata": {},
   "outputs": [
    {
     "data": {
      "text/plain": [
       "81.09412486986571"
      ]
     },
     "execution_count": 137,
     "metadata": {},
     "output_type": "execute_result"
    }
   ],
   "source": [
    "xx = [2,2,6]#x1,x2,x3,...\n",
    "y = predecir(modelo,xx)\n",
    "y"
   ]
  },
  {
   "cell_type": "code",
   "execution_count": 6,
   "metadata": {},
   "outputs": [],
   "source": [
    "xi = np.array([[4.0,1.5],\n",
    "               [3.0,2.2],\n",
    "               [1.6,1.0],\n",
    "               [1.2,2.0],\n",
    "               [3.4,0.8],\n",
    "               [4.8,1.6]])\n",
    "y = np.array([[160],[112],[69],[90],[123],[186]])"
   ]
  },
  {
   "cell_type": "code",
   "execution_count": 8,
   "metadata": {},
   "outputs": [
    {
     "data": {
      "text/plain": [
       "array([[4. , 1.5],\n",
       "       [3. , 2.2],\n",
       "       [1.6, 1. ],\n",
       "       [1.2, 2. ],\n",
       "       [3.4, 0.8],\n",
       "       [4.8, 1.6]])"
      ]
     },
     "execution_count": 8,
     "metadata": {},
     "output_type": "execute_result"
    }
   ],
   "source": [
    "xi"
   ]
  },
  {
   "cell_type": "code",
   "execution_count": 7,
   "metadata": {},
   "outputs": [
    {
     "data": {
      "text/plain": [
       "array([[160],\n",
       "       [112],\n",
       "       [ 69],\n",
       "       [ 90],\n",
       "       [123],\n",
       "       [186]])"
      ]
     },
     "execution_count": 7,
     "metadata": {},
     "output_type": "execute_result"
    }
   ],
   "source": [
    "y"
   ]
  },
  {
   "cell_type": "code",
   "execution_count": 10,
   "metadata": {},
   "outputs": [
    {
     "data": {
      "text/plain": [
       "array([[1. , 4. , 1.5],\n",
       "       [1. , 3. , 2.2],\n",
       "       [1. , 1.6, 1. ],\n",
       "       [1. , 1.2, 2. ],\n",
       "       [1. , 3.4, 0.8],\n",
       "       [1. , 4.8, 1.6]])"
      ]
     },
     "execution_count": 10,
     "metadata": {},
     "output_type": "execute_result"
    }
   ],
   "source": [
    "x = np.ones((len(xi),1))\n",
    "x = np.append(x,xi,1)#add new ones column\n",
    "x"
   ]
  },
  {
   "cell_type": "code",
   "execution_count": 11,
   "metadata": {},
   "outputs": [
    {
     "data": {
      "text/plain": [
       "array([[1. , 1. , 1. , 1. , 1. , 1. ],\n",
       "       [4. , 3. , 1.6, 1.2, 3.4, 4.8],\n",
       "       [1.5, 2.2, 1. , 2. , 0.8, 1.6]])"
      ]
     },
     "execution_count": 11,
     "metadata": {},
     "output_type": "execute_result"
    }
   ],
   "source": [
    "xt = np.matrix.transpose(x)#transpuesta\n",
    "xt"
   ]
  },
  {
   "cell_type": "code",
   "execution_count": 12,
   "metadata": {},
   "outputs": [
    {
     "data": {
      "text/plain": [
       "array([[ 6.  , 18.  ,  9.1 ],\n",
       "       [18.  , 63.6 , 27.  ],\n",
       "       [ 9.1 , 27.  , 15.29]])"
      ]
     },
     "execution_count": 12,
     "metadata": {},
     "output_type": "execute_result"
    }
   ],
   "source": [
    "XtX = np.matmul(xt,x)#multiplicación\n",
    "XtX"
   ]
  },
  {
   "cell_type": "code",
   "execution_count": 13,
   "metadata": {},
   "outputs": [
    {
     "data": {
      "text/plain": [
       "array([[ 2.85772644, -0.34652768, -1.08888576],\n",
       "       [-0.34652768,  0.10482697,  0.02112974],\n",
       "       [-1.08888576,  0.02112974,  0.67615157]])"
      ]
     },
     "execution_count": 13,
     "metadata": {},
     "output_type": "execute_result"
    }
   ],
   "source": [
    "inverse = np.linalg.inv(XtX)\n",
    "inverse"
   ]
  },
  {
   "cell_type": "code",
   "execution_count": 14,
   "metadata": {},
   "outputs": [
    {
     "data": {
      "text/plain": [
       "array([[ 740. ],\n",
       "       [2505.4],\n",
       "       [1131.4]])"
      ]
     },
     "execution_count": 14,
     "metadata": {},
     "output_type": "execute_result"
    }
   ],
   "source": [
    "XtY = np.matmul(xt,y)#multiplicacion xt * y\n",
    "XtY"
   ]
  },
  {
   "cell_type": "code",
   "execution_count": 16,
   "metadata": {
    "scrolled": true
   },
   "outputs": [
    {
     "data": {
      "text/plain": [
       "array([[14.56176926],\n",
       "       [30.10919378],\n",
       "       [12.16086773]])"
      ]
     },
     "execution_count": 16,
     "metadata": {},
     "output_type": "execute_result"
    }
   ],
   "source": [
    "w = np.matmul(inverse,XtY)\n",
    "w"
   ]
  },
  {
   "cell_type": "code",
   "execution_count": 17,
   "metadata": {},
   "outputs": [
    {
     "data": {
      "text/plain": [
       "153.239845975"
      ]
     },
     "execution_count": 17,
     "metadata": {},
     "output_type": "execute_result"
    }
   ],
   "source": [
    "14.56176926 +30.10919378*4 + 12.16086773*1.5"
   ]
  },
  {
   "cell_type": "code",
   "execution_count": null,
   "metadata": {},
   "outputs": [],
   "source": []
  }
 ],
 "metadata": {
  "kernelspec": {
   "display_name": "Python 3",
   "language": "python",
   "name": "python3"
  },
  "language_info": {
   "codemirror_mode": {
    "name": "ipython",
    "version": 3
   },
   "file_extension": ".py",
   "mimetype": "text/x-python",
   "name": "python",
   "nbconvert_exporter": "python",
   "pygments_lexer": "ipython3",
   "version": "3.7.0"
  }
 },
 "nbformat": 4,
 "nbformat_minor": 2
}
