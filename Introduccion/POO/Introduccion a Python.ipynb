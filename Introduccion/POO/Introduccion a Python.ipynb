{
 "cells": [
  {
   "cell_type": "markdown",
   "metadata": {},
   "source": [
    "### Introducción a Python"
   ]
  },
  {
   "cell_type": "code",
   "execution_count": 3,
   "metadata": {},
   "outputs": [
    {
     "name": "stdout",
     "output_type": "stream",
     "text": [
      "Hola Mundo\n"
     ]
    }
   ],
   "source": [
    "print(\"Hola Mundo\") #imprime"
   ]
  },
  {
   "cell_type": "markdown",
   "metadata": {},
   "source": [
    "## Algunos Operadores"
   ]
  },
  {
   "cell_type": "code",
   "execution_count": 23,
   "metadata": {},
   "outputs": [
    {
     "name": "stdout",
     "output_type": "stream",
     "text": [
      "16\n",
      "1\n",
      "8\n",
      "6\n",
      "4.0\n",
      "3\n"
     ]
    }
   ],
   "source": [
    "#SUMA\n",
    "print(2+14)\n",
    "#MODULO\n",
    "print(10%3)\n",
    "#EXPONENCIAL\n",
    "print(2**3)\n",
    "#MULTIPLICACIÓN\n",
    "print(2*3)\n",
    "#DIVISION\n",
    "print(20/5)\n",
    "#DIVISIÓN ENTERA\n",
    "print(10//3)"
   ]
  },
  {
   "cell_type": "markdown",
   "metadata": {},
   "source": [
    "Tipos de **variable**"
   ]
  },
  {
   "cell_type": "code",
   "execution_count": 16,
   "metadata": {},
   "outputs": [
    {
     "data": {
      "text/plain": [
       "int"
      ]
     },
     "execution_count": 16,
     "metadata": {},
     "output_type": "execute_result"
    }
   ],
   "source": [
    "numero = 12\n",
    "type(numero)"
   ]
  },
  {
   "cell_type": "code",
   "execution_count": 18,
   "metadata": {},
   "outputs": [
    {
     "data": {
      "text/plain": [
       "str"
      ]
     },
     "execution_count": 18,
     "metadata": {},
     "output_type": "execute_result"
    }
   ],
   "source": [
    "texto = \"Noe Melo L.\"\n",
    "type(texto)"
   ]
  },
  {
   "cell_type": "code",
   "execution_count": 20,
   "metadata": {},
   "outputs": [
    {
     "data": {
      "text/plain": [
       "float"
      ]
     },
     "execution_count": 20,
     "metadata": {},
     "output_type": "execute_result"
    }
   ],
   "source": [
    "decimal = 23.1\n",
    "type(decimal)"
   ]
  },
  {
   "cell_type": "code",
   "execution_count": 24,
   "metadata": {},
   "outputs": [
    {
     "name": "stdout",
     "output_type": "stream",
     "text": [
      "Esto es un mensaje\n",
      "con tres saltos\n",
      "de linea\n"
     ]
    },
    {
     "data": {
      "text/plain": [
       "str"
      ]
     },
     "execution_count": 24,
     "metadata": {},
     "output_type": "execute_result"
    }
   ],
   "source": [
    "mensaje = \"\"\"Esto es un mensaje\n",
    "... con tres saltos\n",
    "... de linea\"\"\"\n",
    "print(mensaje)\n",
    "type(mensaje)"
   ]
  },
  {
   "cell_type": "markdown",
   "metadata": {},
   "source": [
    "operadores de comparación"
   ]
  },
  {
   "cell_type": "code",
   "execution_count": 10,
   "metadata": {},
   "outputs": [
    {
     "name": "stdout",
     "output_type": "stream",
     "text": [
      "verdadero\n"
     ]
    }
   ],
   "source": [
    "numero1 = 3\n",
    "numero2 = 4\n",
    "\n",
    "if numero1<numero2:\n",
    "    print(\"verdadero\")\n",
    "\n",
    "    \n",
    "#mas operadores > < = "
   ]
  },
  {
   "cell_type": "markdown",
   "metadata": {},
   "source": [
    "## Funciones"
   ]
  },
  {
   "cell_type": "markdown",
   "metadata": {},
   "source": [
    "Funcion sin parámetro"
   ]
  },
  {
   "cell_type": "code",
   "execution_count": 5,
   "metadata": {},
   "outputs": [],
   "source": [
    "def mensaje ():               #declarando a la funcion\n",
    "    print(\"Soy el mensaje\")  "
   ]
  },
  {
   "cell_type": "code",
   "execution_count": 6,
   "metadata": {},
   "outputs": [
    {
     "name": "stdout",
     "output_type": "stream",
     "text": [
      "Soy el mensaje\n"
     ]
    }
   ],
   "source": [
    "mensaje() #llamando a la funcion"
   ]
  },
  {
   "cell_type": "markdown",
   "metadata": {},
   "source": [
    "Funcion con parametro"
   ]
  },
  {
   "cell_type": "code",
   "execution_count": 7,
   "metadata": {},
   "outputs": [],
   "source": [
    "def suma(num1, num2):\n",
    "    print(num1+num2)"
   ]
  },
  {
   "cell_type": "code",
   "execution_count": 8,
   "metadata": {},
   "outputs": [
    {
     "name": "stdout",
     "output_type": "stream",
     "text": [
      "15\n"
     ]
    }
   ],
   "source": [
    "suma(7,8)"
   ]
  },
  {
   "cell_type": "markdown",
   "metadata": {},
   "source": [
    "Funciones con retorno"
   ]
  },
  {
   "cell_type": "code",
   "execution_count": 11,
   "metadata": {},
   "outputs": [],
   "source": [
    "def division(num1,num2):\n",
    "    \n",
    "    return num1/num2"
   ]
  },
  {
   "cell_type": "code",
   "execution_count": 13,
   "metadata": {},
   "outputs": [
    {
     "name": "stdout",
     "output_type": "stream",
     "text": [
      "4.0\n"
     ]
    }
   ],
   "source": [
    "resultado = division(20,5)\n",
    "\n",
    "print(resultado)"
   ]
  },
  {
   "cell_type": "markdown",
   "metadata": {},
   "source": [
    "## Listas - Array"
   ]
  },
  {
   "cell_type": "code",
   "execution_count": 35,
   "metadata": {},
   "outputs": [
    {
     "name": "stdout",
     "output_type": "stream",
     "text": [
      "Maria\n"
     ]
    }
   ],
   "source": [
    "miLista = [\"Maria\", \"Jose\", \"Pepe\", \"Eli\"] #declarando lista\n",
    "\n",
    "print(miLista[0]) ## accediendo a la lista"
   ]
  },
  {
   "cell_type": "markdown",
   "metadata": {},
   "source": [
    "Agregar Elemento"
   ]
  },
  {
   "cell_type": "code",
   "execution_count": 36,
   "metadata": {},
   "outputs": [
    {
     "name": "stdout",
     "output_type": "stream",
     "text": [
      "['Maria', 'Jose', 'Pepe', 'Eli']\n",
      "['Maria', 'Jose']\n"
     ]
    }
   ],
   "source": [
    "print(miLista[:]) # imprimiendo toda la lista\n",
    "print(miLista[0:2]) # imprimiendo un rango 0 - 2"
   ]
  },
  {
   "cell_type": "code",
   "execution_count": 37,
   "metadata": {},
   "outputs": [
    {
     "name": "stdout",
     "output_type": "stream",
     "text": [
      "['Maria', 'Jose', 'Pepe', 'Eli', 'Noah']\n"
     ]
    }
   ],
   "source": [
    "miLista.append(\"Noah\") # agregando 1 elemento\n",
    "print(miLista[:])"
   ]
  },
  {
   "cell_type": "code",
   "execution_count": 38,
   "metadata": {},
   "outputs": [
    {
     "name": "stdout",
     "output_type": "stream",
     "text": [
      "['Maria', 'Jose', 'Luis', 'Pepe', 'Eli', 'Noah']\n"
     ]
    }
   ],
   "source": [
    "miLista.insert(2,\"Luis\") # agregando elemento con posición\n",
    "print(miLista[:])"
   ]
  },
  {
   "cell_type": "code",
   "execution_count": 39,
   "metadata": {
    "scrolled": true
   },
   "outputs": [
    {
     "name": "stdout",
     "output_type": "stream",
     "text": [
      "['Maria', 'Jose', 'Luis', 'Pepe', 'Eli', 'Noah', 'Lisa', 'Miguel', 'Raquel']\n"
     ]
    }
   ],
   "source": [
    "miLista.extend([\"Lisa\",\"Miguel\",\"Raquel\"]) # agregando varios elementos a la lista\n",
    "print(miLista[:])"
   ]
  },
  {
   "cell_type": "markdown",
   "metadata": {},
   "source": [
    "**Buscar** Elemento"
   ]
  },
  {
   "cell_type": "code",
   "execution_count": 40,
   "metadata": {},
   "outputs": [
    {
     "name": "stdout",
     "output_type": "stream",
     "text": [
      "5\n"
     ]
    }
   ],
   "source": [
    "print(miLista.index(\"Noah\"))# devuelve la posición"
   ]
  },
  {
   "cell_type": "code",
   "execution_count": 41,
   "metadata": {},
   "outputs": [
    {
     "data": {
      "text/plain": [
       "True"
      ]
     },
     "execution_count": 41,
     "metadata": {},
     "output_type": "execute_result"
    }
   ],
   "source": [
    "\"Maria\" in miLista # si existe elemento en la lista devuelve TRUE"
   ]
  },
  {
   "cell_type": "markdown",
   "metadata": {},
   "source": [
    "Lista de varios tipos de elemento"
   ]
  },
  {
   "cell_type": "code",
   "execution_count": 46,
   "metadata": {},
   "outputs": [
    {
     "data": {
      "text/plain": [
       "['Patatas', 2.4, True, 100]"
      ]
     },
     "execution_count": 46,
     "metadata": {},
     "output_type": "execute_result"
    }
   ],
   "source": [
    "multiLista = [\"Patatas\", 2.4, True, 100]\n",
    "multiLista[:]"
   ]
  },
  {
   "cell_type": "markdown",
   "metadata": {},
   "source": [
    "Eliminar elemento"
   ]
  },
  {
   "cell_type": "code",
   "execution_count": 47,
   "metadata": {},
   "outputs": [
    {
     "data": {
      "text/plain": [
       "[2.4, True, 100]"
      ]
     },
     "execution_count": 47,
     "metadata": {},
     "output_type": "execute_result"
    }
   ],
   "source": [
    "multiLista.remove(\"Patatas\")#elimina elemento especifico\n",
    "multiLista[:]"
   ]
  },
  {
   "cell_type": "code",
   "execution_count": 48,
   "metadata": {},
   "outputs": [
    {
     "data": {
      "text/plain": [
       "[2.4, True]"
      ]
     },
     "execution_count": 48,
     "metadata": {},
     "output_type": "execute_result"
    }
   ],
   "source": [
    "multiLista.pop()#elimina último elemento\n",
    "multiLista[:]"
   ]
  },
  {
   "cell_type": "markdown",
   "metadata": {},
   "source": [
    "Operadores con Listas"
   ]
  },
  {
   "cell_type": "code",
   "execution_count": 51,
   "metadata": {},
   "outputs": [
    {
     "data": {
      "text/plain": [
       "['Maria',\n",
       " 'Jose',\n",
       " 'Luis',\n",
       " 'Pepe',\n",
       " 'Eli',\n",
       " 'Noah',\n",
       " 'Lisa',\n",
       " 'Miguel',\n",
       " 'Raquel',\n",
       " 2.4,\n",
       " True]"
      ]
     },
     "execution_count": 51,
     "metadata": {},
     "output_type": "execute_result"
    }
   ],
   "source": [
    "#Suma -> agrega:\n",
    "sumaLista = miLista + multiLista\n",
    "sumaLista[:]"
   ]
  },
  {
   "cell_type": "code",
   "execution_count": 52,
   "metadata": {},
   "outputs": [
    {
     "data": {
      "text/plain": [
       "['uno', 'dos', 'tres', 'uno', 'dos', 'tres', 'uno', 'dos', 'tres']"
      ]
     },
     "execution_count": 52,
     "metadata": {},
     "output_type": "execute_result"
    }
   ],
   "source": [
    "#miltiplica o repite\n",
    "listaPrueba = [\"uno\",\"dos\",\"tres\"] *3\n",
    "listaPrueba[:]"
   ]
  },
  {
   "cell_type": "code",
   "execution_count": 2,
   "metadata": {},
   "outputs": [
    {
     "data": {
      "text/plain": [
       "[1, 2, 3, 4, 5, 1, 2, 3, 4, 5, 1, 2, 3, 4, 5]"
      ]
     },
     "execution_count": 2,
     "metadata": {},
     "output_type": "execute_result"
    }
   ],
   "source": [
    "#lista de numeros\n",
    "numeros=[1,2,3,4,5] * 3\n",
    "numeros[:]"
   ]
  },
  {
   "cell_type": "markdown",
   "metadata": {},
   "source": [
    "# Tuplas -  listas"
   ]
  },
  {
   "cell_type": "code",
   "execution_count": 15,
   "metadata": {},
   "outputs": [
    {
     "data": {
      "text/plain": [
       "'Juan'"
      ]
     },
     "execution_count": 15,
     "metadata": {},
     "output_type": "execute_result"
    }
   ],
   "source": [
    "#son más rapidas y ahorran menos memoria, pero no se pueden modificar sus elementos, sirven como diccionarios\n",
    "miTupla = (\"Juan\",13,1,1995)\n",
    "miTupla[0]"
   ]
  },
  {
   "cell_type": "markdown",
   "metadata": {},
   "source": [
    "Convertir tupla a lista"
   ]
  },
  {
   "cell_type": "code",
   "execution_count": 5,
   "metadata": {},
   "outputs": [
    {
     "data": {
      "text/plain": [
       "['Juan', 13, 1, 1995]"
      ]
     },
     "execution_count": 5,
     "metadata": {},
     "output_type": "execute_result"
    }
   ],
   "source": [
    "miLista = list(miTupla)\n",
    "miLista"
   ]
  },
  {
   "cell_type": "markdown",
   "metadata": {},
   "source": [
    "Lista a Tupla"
   ]
  },
  {
   "cell_type": "code",
   "execution_count": 6,
   "metadata": {},
   "outputs": [
    {
     "data": {
      "text/plain": [
       "('Juan', 13, 1, 1995)"
      ]
     },
     "execution_count": 6,
     "metadata": {},
     "output_type": "execute_result"
    }
   ],
   "source": [
    "miTupla = tuple(miLista)\n",
    "miTupla"
   ]
  },
  {
   "cell_type": "code",
   "execution_count": 7,
   "metadata": {},
   "outputs": [
    {
     "data": {
      "text/plain": [
       "True"
      ]
     },
     "execution_count": 7,
     "metadata": {},
     "output_type": "execute_result"
    }
   ],
   "source": [
    "'Juan' in miTupla"
   ]
  },
  {
   "cell_type": "markdown",
   "metadata": {},
   "source": [
    "Contar Elementos"
   ]
  },
  {
   "cell_type": "code",
   "execution_count": 10,
   "metadata": {},
   "outputs": [
    {
     "data": {
      "text/plain": [
       "1"
      ]
     },
     "execution_count": 10,
     "metadata": {},
     "output_type": "execute_result"
    }
   ],
   "source": [
    "miTupla.count(13) # devuelve el numero de elementos del mis valor"
   ]
  },
  {
   "cell_type": "code",
   "execution_count": 11,
   "metadata": {},
   "outputs": [
    {
     "data": {
      "text/plain": [
       "4"
      ]
     },
     "execution_count": 11,
     "metadata": {},
     "output_type": "execute_result"
    }
   ],
   "source": [
    "len(miTupla) # devuelve el número de elementos de la tupla o array"
   ]
  },
  {
   "cell_type": "markdown",
   "metadata": {},
   "source": [
    "Tupla Unitaria y forma de clarar sin paréntesis"
   ]
  },
  {
   "cell_type": "code",
   "execution_count": 13,
   "metadata": {},
   "outputs": [
    {
     "data": {
      "text/plain": [
       "1"
      ]
     },
     "execution_count": 13,
     "metadata": {},
     "output_type": "execute_result"
    }
   ],
   "source": [
    "tuplaUnitaria = ('Pedro',)\n",
    "len(tuplaUnitaria)"
   ]
  },
  {
   "cell_type": "code",
   "execution_count": 17,
   "metadata": {},
   "outputs": [
    {
     "data": {
      "text/plain": [
       "('Luis', 12, 2015, 'marzo')"
      ]
     },
     "execution_count": 17,
     "metadata": {},
     "output_type": "execute_result"
    }
   ],
   "source": [
    "otraTupla = \"Luis\", 12, 2015,\"marzo\"\n",
    "otraTupla"
   ]
  },
  {
   "cell_type": "markdown",
   "metadata": {},
   "source": [
    "Desempaquetado de Tuplas"
   ]
  },
  {
   "cell_type": "code",
   "execution_count": 18,
   "metadata": {},
   "outputs": [
    {
     "name": "stdout",
     "output_type": "stream",
     "text": [
      "Luis 12 2015 marzo\n"
     ]
    }
   ],
   "source": [
    "nombre, dia, anio, mes = otraTupla  #asignación\n",
    "\n",
    "print(nombre, dia,anio,mes) "
   ]
  },
  {
   "cell_type": "markdown",
   "metadata": {},
   "source": [
    "# Diccionarios "
   ]
  },
  {
   "cell_type": "code",
   "execution_count": 20,
   "metadata": {},
   "outputs": [
    {
     "name": "stdout",
     "output_type": "stream",
     "text": [
      "Berlin\n",
      "{'Alemania': 'Berlin', 'Francia': 'Paris', 'Reino Unido': 'Londres', 'Peru': 'Lima'}\n"
     ]
    }
   ],
   "source": [
    "paisCapital = {\"Alemania\":\"Berlin\",\"Francia\":\"Paris\",\"Reino Unido\":\"Londres\",\"Peru\":\"Lima\"}\n",
    "\n",
    "print(paisCapital[\"Alemania\"])\n",
    "#todo el diccionario\n",
    "print(paisCapital)"
   ]
  },
  {
   "cell_type": "markdown",
   "metadata": {},
   "source": [
    "Agregar Elemento"
   ]
  },
  {
   "cell_type": "code",
   "execution_count": 21,
   "metadata": {},
   "outputs": [
    {
     "name": "stdout",
     "output_type": "stream",
     "text": [
      "{'Alemania': 'Berlin', 'Francia': 'Paris', 'Reino Unido': 'Londres', 'Peru': 'Lima', 'España': 'Madrid'}\n"
     ]
    }
   ],
   "source": [
    "paisCapital[\"España\"] = \"Madrid\"\n",
    "print(paisCapital)"
   ]
  },
  {
   "cell_type": "markdown",
   "metadata": {},
   "source": [
    "Reemplazar"
   ]
  },
  {
   "cell_type": "code",
   "execution_count": 23,
   "metadata": {},
   "outputs": [
    {
     "name": "stdout",
     "output_type": "stream",
     "text": [
      "{'Alemania': 'Berlin', 'Francia': 'Paris', 'Reino Unido': 'Londres', 'Peru': 'Lima', 'España': 'Roma'}\n"
     ]
    }
   ],
   "source": [
    "paisCapital[\"España\"] = \"Roma\"\n",
    "print(paisCapital)"
   ]
  },
  {
   "cell_type": "markdown",
   "metadata": {},
   "source": [
    "Eliminar Elemento"
   ]
  },
  {
   "cell_type": "code",
   "execution_count": 24,
   "metadata": {},
   "outputs": [
    {
     "name": "stdout",
     "output_type": "stream",
     "text": [
      "{'Alemania': 'Berlin', 'Francia': 'Paris', 'Reino Unido': 'Londres', 'Peru': 'Lima'}\n"
     ]
    }
   ],
   "source": [
    "del paisCapital[\"España\"]\n",
    "print(paisCapital)"
   ]
  },
  {
   "cell_type": "markdown",
   "metadata": {},
   "source": [
    "Diccionario Multitipo"
   ]
  },
  {
   "cell_type": "code",
   "execution_count": 26,
   "metadata": {},
   "outputs": [
    {
     "name": "stdout",
     "output_type": "stream",
     "text": [
      "{'nombre': 'Michael', 'edad': 20, 'telefono': 9232354, 'sexo': 'M'}\n"
     ]
    }
   ],
   "source": [
    "datos = {\"nombre\":\"Michael\",\"edad\":20,\"telefono\":9232354,\"sexo\":\"M\"}\n",
    "print(datos)"
   ]
  },
  {
   "cell_type": "code",
   "execution_count": 27,
   "metadata": {},
   "outputs": [
    {
     "name": "stdout",
     "output_type": "stream",
     "text": [
      "Michael\n",
      "20\n"
     ]
    }
   ],
   "source": [
    "print(datos[\"nombre\"])\n",
    "print(datos[\"edad\"])"
   ]
  },
  {
   "cell_type": "markdown",
   "metadata": {},
   "source": [
    "Agregar varios valores a un solo elemento del diccionarios"
   ]
  },
  {
   "cell_type": "code",
   "execution_count": 29,
   "metadata": {},
   "outputs": [
    {
     "name": "stdout",
     "output_type": "stream",
     "text": [
      "{'nombre': 'Michael', 'edad': 20, 'telefono': [9232354, 4567289, 234658], 'sexo': 'M'}\n"
     ]
    }
   ],
   "source": [
    "datos = {\"nombre\":\"Michael\",\"edad\":20,\"telefono\":[9232354,4567289,234658],\"sexo\":\"M\"} #agregando varios telefonos\n",
    "print(datos)"
   ]
  },
  {
   "cell_type": "code",
   "execution_count": 30,
   "metadata": {},
   "outputs": [
    {
     "name": "stdout",
     "output_type": "stream",
     "text": [
      "[9232354, 4567289, 234658]\n"
     ]
    }
   ],
   "source": [
    "print(datos[\"telefono\"])"
   ]
  },
  {
   "cell_type": "markdown",
   "metadata": {},
   "source": [
    "Sub diccionarios"
   ]
  },
  {
   "cell_type": "code",
   "execution_count": 33,
   "metadata": {},
   "outputs": [
    {
     "name": "stdout",
     "output_type": "stream",
     "text": [
      "{'temporadas': [2001, 2006, 2009]}\n"
     ]
    }
   ],
   "source": [
    "datos = {\"nombre\":\"Michael\",\"edad\":20,\"telefono\":[9232354,4567289,234658],\"sexo\":\"M\",\n",
    "         \"premios\":{\"temporadas\":[2001,2006,2009]}} #agregando varios telefonos\n",
    "print(datos[\"premios\"])"
   ]
  },
  {
   "cell_type": "markdown",
   "metadata": {},
   "source": [
    "Metodos"
   ]
  },
  {
   "cell_type": "code",
   "execution_count": 37,
   "metadata": {},
   "outputs": [
    {
     "name": "stdout",
     "output_type": "stream",
     "text": [
      "dict_keys(['nombre', 'edad', 'telefono', 'sexo', 'premios'])\n",
      "dict_values(['Michael', 20, [9232354, 4567289, 234658], 'M', {'temporadas': [2001, 2006, 2009]}])\n",
      "5\n"
     ]
    }
   ],
   "source": [
    "#claves\n",
    "print(datos.keys())\n",
    "#valores\n",
    "print(datos.values())\n",
    "#tamaño\n",
    "print(len(datos))"
   ]
  },
  {
   "cell_type": "markdown",
   "metadata": {},
   "source": [
    "# Condicionales"
   ]
  },
  {
   "cell_type": "markdown",
   "metadata": {},
   "source": [
    "if and else"
   ]
  },
  {
   "cell_type": "markdown",
   "metadata": {},
   "source": [
    "def evaluacion(nota):\n",
    "    valoracion = \"\"\n",
    "    if nota < 10:\n",
    "        valoracion = \"Desaprobado\"\n",
    "    else:\n",
    "        valoracion = \"Aprobado\"\n",
    "    return valoracion"
   ]
  },
  {
   "cell_type": "code",
   "execution_count": 44,
   "metadata": {},
   "outputs": [
    {
     "name": "stdout",
     "output_type": "stream",
     "text": [
      "Aprobado\n"
     ]
    }
   ],
   "source": [
    "print(evaluacion(14))"
   ]
  },
  {
   "cell_type": "markdown",
   "metadata": {},
   "source": [
    "Rangos: condición encadenada"
   ]
  },
  {
   "cell_type": "code",
   "execution_count": 48,
   "metadata": {},
   "outputs": [
    {
     "name": "stdout",
     "output_type": "stream",
     "text": [
      "edad fuera de rango\n"
     ]
    }
   ],
   "source": [
    "edad = 10\n",
    "\n",
    "if 0 < edad < 10: #se puede agregar más condiciones -> 1: 0<edad ?, 2: edad < 10 ?, ..., etc.\n",
    "    print(\"edad entre 0 y 10\")\n",
    "else:\n",
    "    print(\"edad fuera de rango\")"
   ]
  },
  {
   "cell_type": "markdown",
   "metadata": {},
   "source": [
    "And y Or"
   ]
  },
  {
   "cell_type": "code",
   "execution_count": 50,
   "metadata": {},
   "outputs": [
    {
     "name": "stdout",
     "output_type": "stream",
     "text": [
      "Cumple AND\n",
      "Cumple OR\n"
     ]
    }
   ],
   "source": [
    "dias=12\n",
    "mes=\"agosto\"\n",
    "#AND\n",
    "if dias < 15 and mes == \"agosto\":\n",
    "    print(\"Cumple AND\")\n",
    "else:\n",
    "    print(\"No Cumple AND\")\n",
    "#OR\n",
    "if dias < 15 or mes == \"enero\":\n",
    "    print(\"Cumple OR\")\n",
    "else:\n",
    "    print(\"No Cumple OR\")"
   ]
  },
  {
   "cell_type": "markdown",
   "metadata": {},
   "source": [
    "In: busqueda dentro del array"
   ]
  },
  {
   "cell_type": "code",
   "execution_count": 54,
   "metadata": {},
   "outputs": [
    {
     "name": "stdout",
     "output_type": "stream",
     "text": [
      "existe en la lista\n"
     ]
    }
   ],
   "source": [
    "nombre = \"Pedro\"\n",
    "if nombre in [\"Juan\",\"Pedro\",\"Luis\"]:\n",
    "    print(\"existe en la lista\")\n",
    "else:\n",
    "    print(\"No existe en la lista\")"
   ]
  },
  {
   "cell_type": "markdown",
   "metadata": {},
   "source": [
    "# Bucles"
   ]
  },
  {
   "cell_type": "markdown",
   "metadata": {},
   "source": [
    "FOR"
   ]
  },
  {
   "cell_type": "markdown",
   "metadata": {},
   "source": [
    "Dentro de un array"
   ]
  },
  {
   "cell_type": "code",
   "execution_count": 57,
   "metadata": {},
   "outputs": [
    {
     "name": "stdout",
     "output_type": "stream",
     "text": [
      "1\n",
      "2\n",
      "3\n",
      "4\n",
      "uno\n",
      "dos\n",
      "tres\n",
      "cuatro\n"
     ]
    }
   ],
   "source": [
    "#dentro de un array\n",
    "for i in [1,2,3,4]:\n",
    "    print(i)\n",
    "for i in [\"uno\",\"dos\",\"tres\",\"cuatro\"]:\n",
    "    print(i)"
   ]
  },
  {
   "cell_type": "code",
   "execution_count": 3,
   "metadata": {},
   "outputs": [
    {
     "name": "stdout",
     "output_type": "stream",
     "text": [
      "unodostrescuatro"
     ]
    }
   ],
   "source": [
    "#sin salto de linea\n",
    "for i in [\"uno\",\"dos\",\"tres\",\"cuatro\"]:\n",
    "    print(i,end = \"\")"
   ]
  },
  {
   "cell_type": "markdown",
   "metadata": {},
   "source": [
    "Recorre caracteres de un string"
   ]
  },
  {
   "cell_type": "code",
   "execution_count": 12,
   "metadata": {},
   "outputs": [
    {
     "name": "stdout",
     "output_type": "stream",
     "text": [
      "p i l d o r a s i n f o r m a t i c a s . c o m "
     ]
    }
   ],
   "source": [
    "for i in \"pildorasinformaticas.com\":\n",
    "    print(i, end = \" \")"
   ]
  },
  {
   "cell_type": "markdown",
   "metadata": {},
   "source": [
    "Range"
   ]
  },
  {
   "cell_type": "code",
   "execution_count": 13,
   "metadata": {},
   "outputs": [
    {
     "name": "stdout",
     "output_type": "stream",
     "text": [
      "0\n",
      "1\n",
      "2\n",
      "3\n",
      "4\n"
     ]
    }
   ],
   "source": [
    "for i in range(5): #rango 0 a 4\n",
    "    print(i)"
   ]
  },
  {
   "cell_type": "code",
   "execution_count": 14,
   "metadata": {},
   "outputs": [
    {
     "name": "stdout",
     "output_type": "stream",
     "text": [
      "5\n",
      "7\n",
      "9\n",
      "11\n",
      "13\n",
      "15\n",
      "17\n",
      "19\n"
     ]
    }
   ],
   "source": [
    "inicio = 5\n",
    "fin = 20\n",
    "cambio = 2\n",
    "for i in range(inicio,fin,cambio):\n",
    "    print(i)"
   ]
  },
  {
   "cell_type": "code",
   "execution_count": 15,
   "metadata": {},
   "outputs": [
    {
     "name": "stdout",
     "output_type": "stream",
     "text": [
      "valor de la variable 20\n",
      "valor de la variable 24\n",
      "valor de la variable 28\n"
     ]
    }
   ],
   "source": [
    "for i in range(20,30,4):\n",
    "    print(f\"valor de la variable {i}\") #imprimir valor del i dentro de un string  con --> f"
   ]
  },
  {
   "cell_type": "markdown",
   "metadata": {},
   "source": [
    "WHILE"
   ]
  },
  {
   "cell_type": "code",
   "execution_count": 24,
   "metadata": {},
   "outputs": [
    {
     "name": "stdout",
     "output_type": "stream",
     "text": [
      "ingrese numero par 2\n",
      "el numero es par: 2\n"
     ]
    }
   ],
   "source": [
    "numero = 3\n",
    "\n",
    "while numero % 2 != 0:\n",
    "        numero = int(input(\"ingrese numero par \"))        \n",
    "print(\"el numero es par: \" + str(numero))"
   ]
  },
  {
   "cell_type": "markdown",
   "metadata": {},
   "source": [
    "WHILE y FOR: CONTINUE, PASS, ELSE"
   ]
  },
  {
   "cell_type": "code",
   "execution_count": 27,
   "metadata": {},
   "outputs": [
    {
     "name": "stdout",
     "output_type": "stream",
     "text": [
      "A\n",
      "B\n",
      "D\n",
      "E\n"
     ]
    }
   ],
   "source": [
    "#CONTINUE\n",
    "for i in \"ABCDE\":\n",
    "    if i == \"C\":\n",
    "        continue\n",
    "    print(i)"
   ]
  },
  {
   "cell_type": "code",
   "execution_count": 28,
   "metadata": {},
   "outputs": [
    {
     "name": "stdout",
     "output_type": "stream",
     "text": [
      "A\n",
      "B\n"
     ]
    }
   ],
   "source": [
    "#BREAK\n",
    "for i in \"ABCDE\":\n",
    "    if i == \"C\":\n",
    "        break\n",
    "    print(i)"
   ]
  },
  {
   "cell_type": "code",
   "execution_count": 31,
   "metadata": {},
   "outputs": [
    {
     "name": "stdout",
     "output_type": "stream",
     "text": [
      "A\n",
      "B\n",
      "C\n",
      "D\n",
      "E\n",
      "final del bucle\n"
     ]
    }
   ],
   "source": [
    "#ELSE\n",
    "for i in \"ABCDE\":\n",
    "    print(i)\n",
    "else:\n",
    "    print(\"final del bucle\") #SE EJECUTA CUANDO NO HAY ELEMENTOS QUE RECORRER    "
   ]
  },
  {
   "cell_type": "code",
   "execution_count": 34,
   "metadata": {},
   "outputs": [
    {
     "name": "stdout",
     "output_type": "stream",
     "text": [
      "hola\n"
     ]
    }
   ],
   "source": [
    "#PASS\n",
    "def miFuncion():\n",
    "    pass #para implementar mas tarde:\n",
    "    print(\"hola\")\n",
    "miFuncion()"
   ]
  },
  {
   "cell_type": "code",
   "execution_count": 35,
   "metadata": {},
   "outputs": [],
   "source": [
    "#VIDEO 19"
   ]
  },
  {
   "cell_type": "markdown",
   "metadata": {},
   "source": [
    "# Generadores - yield - next"
   ]
  },
  {
   "cell_type": "markdown",
   "metadata": {},
   "source": [
    "Duevelve un primer valor de una funcion con iteracion, suspende, luego accede al siguiente valor; de tal manera que no consume memoria. En cambio, un bucle normal devuelve todo el array ocupando memoria para todos sus valores."
   ]
  },
  {
   "cell_type": "code",
   "execution_count": 14,
   "metadata": {},
   "outputs": [],
   "source": [
    "def generaPares(limite):\n",
    "    num = 1\n",
    "    while num < limite:\n",
    "        yield num*2#suspension\n",
    "        num+=1"
   ]
  },
  {
   "cell_type": "code",
   "execution_count": 19,
   "metadata": {},
   "outputs": [
    {
     "name": "stdout",
     "output_type": "stream",
     "text": [
      "2\n",
      "más codigo ... \n",
      "4\n",
      "más codigo ... \n",
      "6\n",
      "más codigo ... \n",
      "8\n",
      "10\n",
      "12\n",
      "14\n",
      "16\n",
      "18\n"
     ]
    }
   ],
   "source": [
    "devuelvePares = generaPares(10)#instancia objeto generador\n",
    "\n",
    "print(next(devuelvePares)) # llama a la función con la primera iteración...\n",
    "print(\"más codigo ... \") # suspension\n",
    "print(next(devuelvePares)) # llama a la función con la segunda iteración...\n",
    "print(\"más codigo ... \") # suspension\n",
    "print(next(devuelvePares))\n",
    "print(\"más codigo ... \") # suspension\n",
    "\n",
    "#imprimirá los que quedan\n",
    "for i in devuelvePares:\n",
    "    print(i)# llama a la función con la i últimas iteraciones..."
   ]
  },
  {
   "cell_type": "code",
   "execution_count": 28,
   "metadata": {},
   "outputs": [],
   "source": [
    "def setCiudades(*ciudades): # *-> indica que el parámetro tendrá indeterminado # de elementos\n",
    "    for ciudad in ciudades:\n",
    "        yield ciudad#aquí se suspende  la ejecución"
   ]
  },
  {
   "cell_type": "code",
   "execution_count": 29,
   "metadata": {
    "scrolled": true
   },
   "outputs": [
    {
     "name": "stdout",
     "output_type": "stream",
     "text": [
      "Lima\n",
      "Cusco\n"
     ]
    }
   ],
   "source": [
    "getCiudades = setCiudades(\"Lima\",\"Cusco\",\"Huancayo\",\"Ica\")\n",
    "\n",
    "print(next(getCiudades))\n",
    "print(next(getCiudades))"
   ]
  },
  {
   "cell_type": "markdown",
   "metadata": {},
   "source": [
    "Acceder a sub elementos"
   ]
  },
  {
   "cell_type": "code",
   "execution_count": 27,
   "metadata": {},
   "outputs": [],
   "source": [
    "def setPalabras(*palabras): # *-> indica que el parámetro tendrá indeterminado # de elementos\n",
    "    for palabra in palabras:\n",
    "        for elemento in palabra:\n",
    "            yield elemento#aquí se suspende  la ejecución"
   ]
  },
  {
   "cell_type": "code",
   "execution_count": 30,
   "metadata": {},
   "outputs": [
    {
     "name": "stdout",
     "output_type": "stream",
     "text": [
      "C\n",
      "A\n",
      "M\n"
     ]
    }
   ],
   "source": [
    "getPalabras = setPalabras(\"CAMINAR\",\"RECURRENTE\")\n",
    "print(next(getPalabras))\n",
    "print(next(getPalabras))\n",
    "print(next(getPalabras))"
   ]
  },
  {
   "cell_type": "markdown",
   "metadata": {},
   "source": [
    "YIELD FROM"
   ]
  },
  {
   "cell_type": "code",
   "execution_count": 36,
   "metadata": {},
   "outputs": [],
   "source": [
    "def setVerbos(*verbos): # *-> indica que el parámetro tendrá indeterminado # de elementos\n",
    "    for verbo in verbos:\n",
    "        #for elemento in palabra:\n",
    "            yield from verbo#aquí se suspende  la ejecución| from recorre el array"
   ]
  },
  {
   "cell_type": "code",
   "execution_count": 37,
   "metadata": {},
   "outputs": [
    {
     "name": "stdout",
     "output_type": "stream",
     "text": [
      "C\n",
      "A\n",
      "M\n"
     ]
    }
   ],
   "source": [
    "getVerbos = setVerbos(\"CAMINAR\",\"RECURRENTE\")\n",
    "print(next(getVerbos))\n",
    "print(next(getVerbos))\n",
    "print(next(getVerbos))"
   ]
  },
  {
   "cell_type": "markdown",
   "metadata": {},
   "source": [
    "# excepciones"
   ]
  },
  {
   "cell_type": "code",
   "execution_count": 47,
   "metadata": {},
   "outputs": [
    {
     "name": "stdout",
     "output_type": "stream",
     "text": [
      "No se puede dividir entre cero\n",
      "calculo finalizado\n",
      "Operacion erronea\n",
      "fin del programa\n"
     ]
    }
   ],
   "source": [
    "#division\n",
    "def divide(n,d):\n",
    "    \n",
    "    try:\n",
    "        return n/d\n",
    "    except ZeroDivisionError:\n",
    "        print(\"No se puede dividir entre cero\")\n",
    "        return \"Operacion erronea\"\n",
    "    #aquí pueden ir más excepciones\n",
    "    finally:\n",
    "        print(\"calculo finalizado\") # finally se ejecuta si o si\n",
    "\n",
    "print(divide(12,0))# division entre 0\n",
    "\n",
    "#resto del código\n",
    "print(\"fin del programa\")"
   ]
  },
  {
   "cell_type": "markdown",
   "metadata": {},
   "source": [
    "**RAISE** provoca un error especificado"
   ]
  },
  {
   "cell_type": "code",
   "execution_count": 6,
   "metadata": {},
   "outputs": [],
   "source": [
    "def edadValido(edad):\n",
    "    if edad < 0:\n",
    "        raise ValueError(\"No se permiten edades negativas\") ##provoca un error de tipo TypeError\n",
    "    if edad < 10:\n",
    "        return \"Eres muy joven\""
   ]
  },
  {
   "cell_type": "code",
   "execution_count": 7,
   "metadata": {},
   "outputs": [
    {
     "ename": "ValueError",
     "evalue": "No se permiten edades negativas",
     "output_type": "error",
     "traceback": [
      "\u001b[1;31m---------------------------------------------------------------------------\u001b[0m",
      "\u001b[1;31mValueError\u001b[0m                                Traceback (most recent call last)",
      "\u001b[1;32m<ipython-input-7-8feb44a38ac6>\u001b[0m in \u001b[0;36m<module>\u001b[1;34m()\u001b[0m\n\u001b[1;32m----> 1\u001b[1;33m \u001b[0medadValido\u001b[0m\u001b[1;33m(\u001b[0m\u001b[1;33m-\u001b[0m\u001b[1;36m12\u001b[0m\u001b[1;33m)\u001b[0m\u001b[1;33m\u001b[0m\u001b[0m\n\u001b[0m",
      "\u001b[1;32m<ipython-input-6-b4c1b9191411>\u001b[0m in \u001b[0;36medadValido\u001b[1;34m(edad)\u001b[0m\n\u001b[0;32m      1\u001b[0m \u001b[1;32mdef\u001b[0m \u001b[0medadValido\u001b[0m\u001b[1;33m(\u001b[0m\u001b[0medad\u001b[0m\u001b[1;33m)\u001b[0m\u001b[1;33m:\u001b[0m\u001b[1;33m\u001b[0m\u001b[0m\n\u001b[0;32m      2\u001b[0m     \u001b[1;32mif\u001b[0m \u001b[0medad\u001b[0m \u001b[1;33m<\u001b[0m \u001b[1;36m0\u001b[0m\u001b[1;33m:\u001b[0m\u001b[1;33m\u001b[0m\u001b[0m\n\u001b[1;32m----> 3\u001b[1;33m         \u001b[1;32mraise\u001b[0m \u001b[0mValueError\u001b[0m\u001b[1;33m(\u001b[0m\u001b[1;34m\"No se permiten edades negativas\"\u001b[0m\u001b[1;33m)\u001b[0m \u001b[1;31m##provoca un error de tipo TypeError\u001b[0m\u001b[1;33m\u001b[0m\u001b[0m\n\u001b[0m\u001b[0;32m      4\u001b[0m     \u001b[1;32mif\u001b[0m \u001b[0medad\u001b[0m \u001b[1;33m<\u001b[0m \u001b[1;36m10\u001b[0m\u001b[1;33m:\u001b[0m\u001b[1;33m\u001b[0m\u001b[0m\n\u001b[0;32m      5\u001b[0m         \u001b[1;32mreturn\u001b[0m \u001b[1;34m\"Eres muy joven\"\u001b[0m\u001b[1;33m\u001b[0m\u001b[0m\n",
      "\u001b[1;31mValueError\u001b[0m: No se permiten edades negativas"
     ]
    }
   ],
   "source": [
    "edadValido(-12)"
   ]
  },
  {
   "cell_type": "code",
   "execution_count": 15,
   "metadata": {},
   "outputs": [
    {
     "name": "stdout",
     "output_type": "stream",
     "text": [
      "No se permiten edades negativas\n",
      "el programa a terminado\n"
     ]
    }
   ],
   "source": [
    "#capturando error\n",
    "try:\n",
    "    print(edadValido(-9))#ejecutamos funcion\n",
    "except ValueError as ErrorDeNegativo:   #indiamos el tipo de error\n",
    "    print(ErrorDeNegativo)\n",
    "\n",
    "    \n",
    "print(\"el programa a terminado\")\n",
    "    "
   ]
  },
  {
   "cell_type": "code",
   "execution_count": null,
   "metadata": {},
   "outputs": [],
   "source": []
  }
 ],
 "metadata": {
  "kernelspec": {
   "display_name": "Python 3",
   "language": "python",
   "name": "python3"
  },
  "language_info": {
   "codemirror_mode": {
    "name": "ipython",
    "version": 3
   },
   "file_extension": ".py",
   "mimetype": "text/x-python",
   "name": "python",
   "nbconvert_exporter": "python",
   "pygments_lexer": "ipython3",
   "version": "3.6.5"
  }
 },
 "nbformat": 4,
 "nbformat_minor": 2
}
