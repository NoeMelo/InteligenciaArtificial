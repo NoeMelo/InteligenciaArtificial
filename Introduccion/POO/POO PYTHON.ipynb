{
 "cells": [
  {
   "cell_type": "markdown",
   "metadata": {},
   "source": [
    "# Clases"
   ]
  },
  {
   "cell_type": "code",
   "execution_count": 26,
   "metadata": {},
   "outputs": [],
   "source": [
    "#clase coche\n",
    "\n",
    "class Coche():\n",
    "    largoChasis = 254 #atributos\n",
    "    anchoChasis = 120\n",
    "    ruedas = 4\n",
    "    enMarcha = False\n",
    "    \n",
    "    #funciones de la clase:\n",
    "    \n",
    "    def arrancar(self):             #self es como el $this de PHP -> puntero\n",
    "        self.enMarcha=True\n",
    "        \n",
    "    def estado(self):\n",
    "        if(self.enMarcha == True):\n",
    "            return \"el coche está en marcha\"\n",
    "        else:\n",
    "            return \"el coche está parado\"\n",
    "    \n",
    "    #funciones con parámetros:\n",
    "    \n",
    "    def agregarRuedas(self,cantidad):\n",
    "        self.ruedas = self.ruedas+ cantidad"
   ]
  },
  {
   "cell_type": "markdown",
   "metadata": {},
   "source": [
    "**Instanciando a la clase**"
   ]
  },
  {
   "cell_type": "code",
   "execution_count": 27,
   "metadata": {},
   "outputs": [
    {
     "name": "stdout",
     "output_type": "stream",
     "text": [
      "el coche está parado\n",
      "el coche está en marcha\n"
     ]
    }
   ],
   "source": [
    "nuevoCoche = Coche()\n",
    "\n",
    "#llamar funciones del la clase\n",
    "\n",
    "print(nuevoCoche.estado())\n",
    "\n",
    "nuevoCoche.arrancar()\n",
    "\n",
    "print(nuevoCoche.estado())"
   ]
  },
  {
   "cell_type": "markdown",
   "metadata": {},
   "source": [
    "**instanciar varios objetos**"
   ]
  },
  {
   "cell_type": "code",
   "execution_count": 31,
   "metadata": {},
   "outputs": [
    {
     "name": "stdout",
     "output_type": "stream",
     "text": [
      "el coche1 tiene:  6\n",
      "el coche2 tiene:  7\n"
     ]
    }
   ],
   "source": [
    "coche1 = Coche()\n",
    "coche2 = Coche()\n",
    "\n",
    "coche1.agregarRuedas(2)\n",
    "coche2.agregarRuedas(3)\n",
    "\n",
    "print(\"el coche1 tiene: \",coche1.ruedas)\n",
    "print(\"el coche2 tiene: \",coche2.ruedas)"
   ]
  },
  {
   "cell_type": "markdown",
   "metadata": {},
   "source": [
    "**CONSTRUCTOR**\n",
    "\n",
    "Inicializa los atributos de la clase"
   ]
  },
  {
   "cell_type": "code",
   "execution_count": 53,
   "metadata": {},
   "outputs": [],
   "source": [
    "class Auto():\n",
    "    \n",
    "    def __init__(self): ## construtor\n",
    "        self.ancho = 3\n",
    "        self.largo = 8\n",
    "        self.marca = \"Mercedes Benz\"\n",
    "        self.ruedas = 4\n",
    "        self.enMarcha = False\n",
    "    def arrancar(self):\n",
    "        self.enMarcha = True\n",
    "    def estado(self):\n",
    "        if(self.enMarcha):\n",
    "            return \"En Movimiento\"\n",
    "        else:\n",
    "            return \"En STOP\""
   ]
  },
  {
   "cell_type": "code",
   "execution_count": 39,
   "metadata": {},
   "outputs": [
    {
     "name": "stdout",
     "output_type": "stream",
     "text": [
      "En Movimiento\n",
      "En STOP\n"
     ]
    }
   ],
   "source": [
    "auto1 = Auto()\n",
    "auto2 = Auto()\n",
    "\n",
    "auto1.arrancar()\n",
    "print(auto1.estado())\n",
    "print(auto2.estado())"
   ]
  },
  {
   "cell_type": "markdown",
   "metadata": {},
   "source": [
    "**ENCAPSULAMIENTO**\n",
    "\n",
    "Restringe el acceso a la clase desde dentro de la clase"
   ]
  },
  {
   "cell_type": "code",
   "execution_count": 49,
   "metadata": {},
   "outputs": [],
   "source": [
    "class Bus():\n",
    "    \n",
    "    def __init__(self):\n",
    "        self.ancho = 3\n",
    "        self.largo = 8\n",
    "        self.marca = \"Mercedes Benz\"\n",
    "        self.__ruedas = 4           #doble __ para capsular\n",
    "        self.enMarcha = False\n",
    "    def mostrarBus(self):\n",
    "        print(\"ancho: \",self.ancho, \" largo: \",self.largo,\" ruedas: \",self.__ruedas)"
   ]
  },
  {
   "cell_type": "code",
   "execution_count": 51,
   "metadata": {},
   "outputs": [
    {
     "name": "stdout",
     "output_type": "stream",
     "text": [
      "ancho:  3  largo:  10  ruedas:  4\n"
     ]
    }
   ],
   "source": [
    "bus1 = Bus()\n",
    "bus1.largo = 10 #NO capsulado\n",
    "bus1.ruedas = 8 #capsulado\n",
    "bus1.mostrarBus()"
   ]
  },
  {
   "cell_type": "markdown",
   "metadata": {},
   "source": [
    "**Encapsulamiento de funciones**"
   ]
  },
  {
   "cell_type": "code",
   "execution_count": 34,
   "metadata": {},
   "outputs": [],
   "source": [
    "class Camion():\n",
    "    \n",
    "    def __init__(self): ## construtor\n",
    "        self.ancho = 3\n",
    "        self.largo = 8\n",
    "        self.marca = \"Mercedes Benz\"\n",
    "        self.ruedas = 4\n",
    "        self.enMarcha = False\n",
    "    def arrancar(self):\n",
    "        if (self.__chequeo()):\n",
    "            self.enMarcha = True\n",
    "            print(\"Camión en marcha\")\n",
    "        else:\n",
    "            print(\"Camion en STOP\")\n",
    "            \n",
    "    def __chequeo(self):       #funcion encapsulado\n",
    "        if self.ruedas >= 4:\n",
    "            print(\"todo en orden\")\n",
    "            return True\n",
    "        else:\n",
    "            print(\"Hay fallas en las ruedas\")\n",
    "            return False"
   ]
  },
  {
   "cell_type": "code",
   "execution_count": 35,
   "metadata": {},
   "outputs": [
    {
     "name": "stdout",
     "output_type": "stream",
     "text": [
      "Hay fallas en las ruedas\n",
      "Camion en STOP\n"
     ]
    }
   ],
   "source": [
    "camion1 = Camion()\n",
    "\n",
    "#camion1.__chequeo() #dará error\n",
    "camion1.ruedas = 3\n",
    "camion1.arrancar()"
   ]
  },
  {
   "cell_type": "markdown",
   "metadata": {},
   "source": [
    "# Herencia"
   ]
  },
  {
   "cell_type": "code",
   "execution_count": 47,
   "metadata": {},
   "outputs": [],
   "source": [
    "class Vehiculos():\n",
    "    def __init__(self,marca,modelo):\n",
    "        self.marca = marca\n",
    "        self.modelo = modelo\n",
    "        self.enMarcha = False\n",
    "        self.acelera = False\n",
    "        self.frena = False\n",
    "    def arrancar(self):\n",
    "        self.enMarcha = True\n",
    "    def acelerar(self):\n",
    "        self.acelera = True\n",
    "    def frenar(self):\n",
    "        self.frena = True\n",
    "    def estado(self):\n",
    "        print(\"marca: \",self.marca,\n",
    "              \"\\n modelo: \",self.modelo,\n",
    "              \"\\n enMarcha: \",self.enMarcha,\n",
    "             \"\\n acelera: \",self.acelera,\n",
    "             \"\\n frena: \",self.frena)\n",
    "\n",
    "class Moto(Vehiculos):  #HEREDA de Vehiculos\n",
    "    caballito = \"\"\n",
    "    \n",
    "    def caballito(self):\n",
    "        self.caballito = \"Haciendo Caballito\"\n",
    "    def estado(self):                #el médoto con el mismo nombre se sobreescribe\n",
    "        print(\"marca: \",self.marca,  #se ejecuta el método de la clase hijo\n",
    "              \"\\n modelo: \",self.modelo,\n",
    "              \"\\n enMarcha: \",self.enMarcha,\n",
    "             \"\\n acelera: \",self.acelera,\n",
    "             \"\\n frena: \",self.frena,\n",
    "             \"\\n caballito: \",self.caballito)"
   ]
  },
  {
   "cell_type": "code",
   "execution_count": 49,
   "metadata": {},
   "outputs": [
    {
     "name": "stdout",
     "output_type": "stream",
     "text": [
      "marca:  Honda \n",
      " modelo:  CV200 \n",
      " enMarcha:  True \n",
      " acelera:  True \n",
      " frena:  False \n",
      " caballito:  Haciendo Caballito\n"
     ]
    }
   ],
   "source": [
    "moto1 = Moto(\"Honda\",\"CV200\") #instanciamos con los parámetros de la clase padre\n",
    "#moto1.estado()\n",
    "moto1.caballito() #metodo class hijo\n",
    "moto1.arrancar() #metodo class padre\n",
    "moto1.acelerar()#metodo class padre\n",
    "moto1.estado() #metodo class hijo"
   ]
  },
  {
   "cell_type": "markdown",
   "metadata": {},
   "source": [
    "**Herencia Múltiple**"
   ]
  },
  {
   "cell_type": "code",
   "execution_count": 52,
   "metadata": {},
   "outputs": [],
   "source": [
    "class VElectricos():\n",
    "    def __init__(self):\n",
    "        self.automomia = 100\n",
    "    def cargarEnergia(self):\n",
    "        self.carga = True\n",
    "        \n",
    "class BicicletaElectrica(VElectricos,Vehiculos): \n",
    "    #prefiere al método de la primera clase cuando tienen el mismo nombre\n",
    "    pass"
   ]
  },
  {
   "cell_type": "code",
   "execution_count": 58,
   "metadata": {},
   "outputs": [
    {
     "name": "stdout",
     "output_type": "stream",
     "text": [
      "True\n"
     ]
    }
   ],
   "source": [
    "bici1 = BicicletaElectrica()#no hay parametros porque agarró el constructor de las class1\n",
    "bici1.arrancar()\n",
    "print(bici1.enMarcha)"
   ]
  },
  {
   "cell_type": "markdown",
   "metadata": {},
   "source": [
    "**SUPER**\n",
    "\n",
    "Hace referencia a los métodos de la clase padre"
   ]
  },
  {
   "cell_type": "code",
   "execution_count": 71,
   "metadata": {},
   "outputs": [],
   "source": [
    "class Persona():\n",
    "    def __init__(self,nombres,dni,edad):\n",
    "        self.nombres = nombres\n",
    "        self.dni = dni\n",
    "        self.edad = edad\n",
    "    def descripcion(self):\n",
    "        print(self.nombres, self.dni,self.edad)\n",
    "        \n",
    "class Empleado(Persona):\n",
    "    def __init__ (self, nombres, dni, edad, salario):\n",
    "        \n",
    "        super().__init__(nombres,dni,edad) #parametrs de la clase padre\n",
    "        self.salario = salario\n",
    "    def descripcion(self):\n",
    "        super().descripcion()\n",
    "        print(\"Salario: \", self.salario)"
   ]
  },
  {
   "cell_type": "code",
   "execution_count": 72,
   "metadata": {},
   "outputs": [
    {
     "name": "stdout",
     "output_type": "stream",
     "text": [
      "Manuel Peres 55 32\n",
      "Salario:  1500\n"
     ]
    }
   ],
   "source": [
    "empleado1 = Empleado(\"Manuel Peres\",55,3232445,1500)\n",
    "empleado1.descripcion()"
   ]
  },
  {
   "cell_type": "markdown",
   "metadata": {},
   "source": [
    "**isinstance**"
   ]
  },
  {
   "cell_type": "code",
   "execution_count": 74,
   "metadata": {},
   "outputs": [
    {
     "data": {
      "text/plain": [
       "True"
      ]
     },
     "execution_count": 74,
     "metadata": {},
     "output_type": "execute_result"
    }
   ],
   "source": [
    "isinstance(empleado1, Persona)"
   ]
  },
  {
   "cell_type": "code",
   "execution_count": 77,
   "metadata": {},
   "outputs": [
    {
     "data": {
      "text/plain": [
       "False"
      ]
     },
     "execution_count": 77,
     "metadata": {},
     "output_type": "execute_result"
    }
   ],
   "source": [
    "persona1 = Persona(\"Noe\",22211222,22)\n",
    "isinstance(persona1,Empleado)"
   ]
  },
  {
   "cell_type": "code",
   "execution_count": 78,
   "metadata": {},
   "outputs": [],
   "source": [
    "#video 31 casi final"
   ]
  },
  {
   "cell_type": "code",
   "execution_count": null,
   "metadata": {},
   "outputs": [],
   "source": []
  }
 ],
 "metadata": {
  "kernelspec": {
   "display_name": "Python 3",
   "language": "python",
   "name": "python3"
  },
  "language_info": {
   "codemirror_mode": {
    "name": "ipython",
    "version": 3
   },
   "file_extension": ".py",
   "mimetype": "text/x-python",
   "name": "python",
   "nbconvert_exporter": "python",
   "pygments_lexer": "ipython3",
   "version": "3.6.5"
  }
 },
 "nbformat": 4,
 "nbformat_minor": 2
}
