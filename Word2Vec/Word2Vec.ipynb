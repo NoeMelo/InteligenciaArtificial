{
 "cells": [
  {
   "cell_type": "code",
   "execution_count": 1,
   "metadata": {
    "colab": {},
    "colab_type": "code",
    "id": "y4S_83N9YtnH"
   },
   "outputs": [],
   "source": [
    "from gensim.models import word2vec\n",
    "import numpy as np\n",
    "import gensim\n",
    "from multiprocessing import cpu_count\n",
    "#from time import time  # To time our operations"
   ]
  },
  {
   "cell_type": "code",
   "execution_count": 2,
   "metadata": {
    "colab": {
     "base_uri": "https://localhost:8080/",
     "height": 36
    },
    "colab_type": "code",
    "id": "suyQCJEpZZWQ",
    "outputId": "c1cf0a40-d434-49fe-df73-0f9afe9db7c2"
   },
   "outputs": [],
   "source": [
    "#Levantar Dataset desde Drive con Colab\n",
    "#--------------------------------------------------#\n",
    "#from google.colab import drive \n",
    "#drive.mount('/content/gdrive')\n",
    "#Dirección de  la carpeta\n",
    "#driveFolder = \"/content/gdrive/My Drive/CICLO VIII/IA AVANZADA/Word2Vec/\""
   ]
  },
  {
   "cell_type": "code",
   "execution_count": 3,
   "metadata": {
    "colab": {
     "base_uri": "https://localhost:8080/",
     "height": 36
    },
    "colab_type": "code",
    "id": "5pNPQFMcr7uV",
    "outputId": "6eb45ee8-c010-4eda-b21d-820fbd504296"
   },
   "outputs": [
    {
     "data": {
      "text/plain": [
       "4"
      ]
     },
     "execution_count": 3,
     "metadata": {},
     "output_type": "execute_result"
    }
   ],
   "source": [
    "cpu_count() "
   ]
  },
  {
   "cell_type": "markdown",
   "metadata": {
    "colab_type": "text",
    "id": "r1WeUliVvAxo"
   },
   "source": [
    "### Noticias de Deporte\n",
    "\n",
    "**Modelado:**"
   ]
  },
  {
   "cell_type": "code",
   "execution_count": 4,
   "metadata": {
    "colab": {},
    "colab_type": "code",
    "id": "VHTi2UYXTAq5"
   },
   "outputs": [
    {
     "name": "stderr",
     "output_type": "stream",
     "text": [
      "C:\\Users\\noy-4\\Anaconda3\\lib\\site-packages\\gensim\\models\\base_any2vec.py:743: UserWarning: C extension not loaded, training will be slow. Install a C compiler and reinstall gensim for fast training.\n",
      "  \"C extension not loaded, training will be slow. \"\n"
     ]
    }
   ],
   "source": [
    "sentences1 = word2vec.Text8Corpus('NoticiasDeporte.txt')\n",
    "model1 = word2vec.Word2Vec(size=100,min_count=2,workers=cpu_count()-1)"
   ]
  },
  {
   "cell_type": "code",
   "execution_count": 5,
   "metadata": {
    "colab": {
     "base_uri": "https://localhost:8080/",
     "height": 74
    },
    "colab_type": "code",
    "id": "e6_aN0ojZdHA",
    "outputId": "38a1111c-7a14-4e6a-87cb-2769963b5242"
   },
   "outputs": [
    {
     "name": "stderr",
     "output_type": "stream",
     "text": [
      "C:\\Users\\noy-4\\Anaconda3\\lib\\site-packages\\smart_open\\smart_open_lib.py:398: UserWarning: This function is deprecated, use smart_open.open instead. See the migration notes for details: https://github.com/RaRe-Technologies/smart_open/blob/master/README.rst#migrating-to-the-new-open-function\n",
      "  'See the migration notes for details: %s' % _MIGRATION_NOTES_URL\n"
     ]
    }
   ],
   "source": [
    "model1.build_vocab(sentences1, progress_per=10000)"
   ]
  },
  {
   "cell_type": "code",
   "execution_count": 6,
   "metadata": {
    "colab": {
     "base_uri": "https://localhost:8080/",
     "height": 3576
    },
    "colab_type": "code",
    "id": "kKNQux2FTWoI",
    "outputId": "4298f4ab-0356-4462-9537-5e791397c5db"
   },
   "outputs": [
    {
     "data": {
      "text/plain": [
       "{'Brasil:': <gensim.models.keyedvectors.Vocab at 0x28ae62e0358>,\n",
       " 'equipo': <gensim.models.keyedvectors.Vocab at 0x28ae62e0390>,\n",
       " 'es': <gensim.models.keyedvectors.Vocab at 0x28ae62e04a8>,\n",
       " 'favorito': <gensim.models.keyedvectors.Vocab at 0x28ae62e0518>,\n",
       " 'en': <gensim.models.keyedvectors.Vocab at 0x28ae62e0550>,\n",
       " 'las': <gensim.models.keyedvectors.Vocab at 0x28ae62e0588>,\n",
       " 'casas': <gensim.models.keyedvectors.Vocab at 0x28ae62e05c0>,\n",
       " 'de': <gensim.models.keyedvectors.Vocab at 0x28ae62e06d8>,\n",
       " 'El': <gensim.models.keyedvectors.Vocab at 0x28ae62e0710>,\n",
       " 'Brasil': <gensim.models.keyedvectors.Vocab at 0x28ae62e0940>,\n",
       " 'está': <gensim.models.keyedvectors.Vocab at 0x28ae62e09b0>,\n",
       " 'como': <gensim.models.keyedvectors.Vocab at 0x28ae62e09e8>,\n",
       " 'ante': <gensim.models.keyedvectors.Vocab at 0x28ae62e0a90>,\n",
       " 'la': <gensim.models.keyedvectors.Vocab at 0x28ae62e0b00>,\n",
       " 'selección': <gensim.models.keyedvectors.Vocab at 0x28ae62e0b38>,\n",
       " 'Según': <gensim.models.keyedvectors.Vocab at 0x28ae62e0b70>,\n",
       " 'apuestas': <gensim.models.keyedvectors.Vocab at 0x28ae62e0be0>,\n",
       " 'se': <gensim.models.keyedvectors.Vocab at 0x28ae62e0c88>,\n",
       " 'veces': <gensim.models.keyedvectors.Vocab at 0x28ae62e0cc0>,\n",
       " 'selecciones': <gensim.models.keyedvectors.Vocab at 0x28ae62e0dd8>,\n",
       " 'Perú': <gensim.models.keyedvectors.Vocab at 0x28ae62e0e10>,\n",
       " 'y': <gensim.models.keyedvectors.Vocab at 0x28ae62e0eb8>,\n",
       " 'el': <gensim.models.keyedvectors.Vocab at 0x28ae62e0f28>,\n",
       " 'partido': <gensim.models.keyedvectors.Vocab at 0x28ae62e0f98>,\n",
       " 'para': <gensim.models.keyedvectors.Vocab at 0x28ae62e40b8>,\n",
       " 'su': <gensim.models.keyedvectors.Vocab at 0x28ae62e40f0>,\n",
       " 'a': <gensim.models.keyedvectors.Vocab at 0x28ae62e4208>,\n",
       " 'los': <gensim.models.keyedvectors.Vocab at 0x28ae62e42b0>,\n",
       " 'cuartos': <gensim.models.keyedvectors.Vocab at 0x28ae62e4358>,\n",
       " 'final': <gensim.models.keyedvectors.Vocab at 0x28ae62e4470>,\n",
       " 'Copa': <gensim.models.keyedvectors.Vocab at 0x28ae62e44a8>,\n",
       " 'América': <gensim.models.keyedvectors.Vocab at 0x28ae62e44e0>,\n",
       " '2019.': <gensim.models.keyedvectors.Vocab at 0x28ae62e4518>,\n",
       " 'será': <gensim.models.keyedvectors.Vocab at 0x28ae62e45c0>,\n",
       " 'Arena': <gensim.models.keyedvectors.Vocab at 0x28ae62e45f8>,\n",
       " 'Corinthians': <gensim.models.keyedvectors.Vocab at 0x28ae62e4668>,\n",
       " 'Sao': <gensim.models.keyedvectors.Vocab at 0x28ae62e46a0>,\n",
       " 'sábado': <gensim.models.keyedvectors.Vocab at 0x28ae62e46d8>,\n",
       " '2:00': <gensim.models.keyedvectors.Vocab at 0x28ae62e4780>,\n",
       " 'p.m.': <gensim.models.keyedvectors.Vocab at 0x28ae62e47b8>,\n",
       " 'En': <gensim.models.keyedvectors.Vocab at 0x28ae62e47f0>,\n",
       " 'esta': <gensim.models.keyedvectors.Vocab at 0x28ae62e4828>,\n",
       " 'ocasión': <gensim.models.keyedvectors.Vocab at 0x28ae62e4860>,\n",
       " 'que': <gensim.models.keyedvectors.Vocab at 0x28ae62e48d0>,\n",
       " 'tiene': <gensim.models.keyedvectors.Vocab at 0x28ae62e4908>,\n",
       " 'más': <gensim.models.keyedvectors.Vocab at 0x28ae62e4940>,\n",
       " 'casa': <gensim.models.keyedvectors.Vocab at 0x28ae62e4a58>,\n",
       " 'triunfo': <gensim.models.keyedvectors.Vocab at 0x28ae62e4a90>,\n",
       " 'multiplica': <gensim.models.keyedvectors.Vocab at 0x28ae62e4ac8>,\n",
       " 'apuesta': <gensim.models.keyedvectors.Vocab at 0x28ae62e4b00>,\n",
       " 'por': <gensim.models.keyedvectors.Vocab at 0x28ae62e4b38>,\n",
       " 'empate': <gensim.models.keyedvectors.Vocab at 0x28ae62e4b70>,\n",
       " 'una': <gensim.models.keyedvectors.Vocab at 0x28ae62e4ba8>,\n",
       " 'victoria': <gensim.models.keyedvectors.Vocab at 0x28ae62e4be0>,\n",
       " 'Perú,': <gensim.models.keyedvectors.Vocab at 0x28ae62e4c18>,\n",
       " 'Los': <gensim.models.keyedvectors.Vocab at 0x28ae62e4c88>,\n",
       " 'resultados': <gensim.models.keyedvectors.Vocab at 0x28ae62e4cc0>,\n",
       " '5-1': <gensim.models.keyedvectors.Vocab at 0x28ae62e4d30>,\n",
       " 'favor': <gensim.models.keyedvectors.Vocab at 0x28ae62e4d68>,\n",
       " 'con': <gensim.models.keyedvectors.Vocab at 0x28ae62e4da0>,\n",
       " 'multiplicación': <gensim.models.keyedvectors.Vocab at 0x28ae62e4eb8>,\n",
       " 'mientras': <gensim.models.keyedvectors.Vocab at 0x28ae62e4ef0>,\n",
       " '1-0': <gensim.models.keyedvectors.Vocab at 0x28ae62e4f60>,\n",
       " '2-0': <gensim.models.keyedvectors.Vocab at 0x28ae62e4f98>,\n",
       " 'probable': <gensim.models.keyedvectors.Vocab at 0x28ae62e5080>,\n",
       " 'Para': <gensim.models.keyedvectors.Vocab at 0x28ae62e50f0>,\n",
       " 'son': <gensim.models.keyedvectors.Vocab at 0x28ae62e5128>,\n",
       " 'un': <gensim.models.keyedvectors.Vocab at 0x28ae62e5160>,\n",
       " 'resultado': <gensim.models.keyedvectors.Vocab at 0x28ae62e5198>,\n",
       " 'más.': <gensim.models.keyedvectors.Vocab at 0x28ae62e51d0>,\n",
       " 'gana': <gensim.models.keyedvectors.Vocab at 0x28ae62e5208>,\n",
       " 'mayor': <gensim.models.keyedvectors.Vocab at 0x28ae62e5240>,\n",
       " 'Por': <gensim.models.keyedvectors.Vocab at 0x28ae62e5278>,\n",
       " 'Guerrero,': <gensim.models.keyedvectors.Vocab at 0x28ae62e52b0>,\n",
       " 'Farfán': <gensim.models.keyedvectors.Vocab at 0x28ae62e5358>,\n",
       " 'Flores': <gensim.models.keyedvectors.Vocab at 0x28ae62e5390>,\n",
       " '3-1': <gensim.models.keyedvectors.Vocab at 0x28ae62e53c8>,\n",
       " 'Bolivia': <gensim.models.keyedvectors.Vocab at 0x28ae62e5400>,\n",
       " '|': <gensim.models.keyedvectors.Vocab at 0x28ae62e5438>,\n",
       " 'artillero': <gensim.models.keyedvectors.Vocab at 0x28ae62e5470>,\n",
       " 'Paolo': <gensim.models.keyedvectors.Vocab at 0x28ae62e54e0>,\n",
       " 'Guerrero': <gensim.models.keyedvectors.Vocab at 0x28ae62e5518>,\n",
       " 'igualó': <gensim.models.keyedvectors.Vocab at 0x28ae62e5588>,\n",
       " '45': <gensim.models.keyedvectors.Vocab at 0x28ae62e55c0>,\n",
       " 'golazo': <gensim.models.keyedvectors.Vocab at 0x28ae62e55f8>,\n",
       " 'mezcla': <gensim.models.keyedvectors.Vocab at 0x28ae62e5630>,\n",
       " 'técnica': <gensim.models.keyedvectors.Vocab at 0x28ae62e5710>,\n",
       " 'potencia.': <gensim.models.keyedvectors.Vocab at 0x28ae62e57b8>,\n",
       " '55,': <gensim.models.keyedvectors.Vocab at 0x28ae62e57f0>,\n",
       " 'Jefferson': <gensim.models.keyedvectors.Vocab at 0x28ae62e5828>,\n",
       " 'sumó': <gensim.models.keyedvectors.Vocab at 0x28ae62e5898>,\n",
       " 'nuevo': <gensim.models.keyedvectors.Vocab at 0x28ae62e58d0>,\n",
       " 'cabezazo': <gensim.models.keyedvectors.Vocab at 0x28ae62e5978>,\n",
       " '90+6': <gensim.models.keyedvectors.Vocab at 0x28ae62e59e8>,\n",
       " 'Edison': <gensim.models.keyedvectors.Vocab at 0x28ae62e5a20>,\n",
       " 'rubricó': <gensim.models.keyedvectors.Vocab at 0x28ae62e5a90>,\n",
       " 'este': <gensim.models.keyedvectors.Vocab at 0x28ae62e5b00>,\n",
       " 'martes': <gensim.models.keyedvectors.Vocab at 0x28ae62e5b38>,\n",
       " 'al': <gensim.models.keyedvectors.Vocab at 0x28ae62e5ba8>,\n",
       " 'del': <gensim.models.keyedvectors.Vocab at 0x28ae62e5be0>,\n",
       " 'grupo': <gensim.models.keyedvectors.Vocab at 0x28ae62e5c18>,\n",
       " 'A,': <gensim.models.keyedvectors.Vocab at 0x28ae62e5c50>,\n",
       " 'pese': <gensim.models.keyedvectors.Vocab at 0x28ae62e5c88>,\n",
       " 'le': <gensim.models.keyedvectors.Vocab at 0x28ae62e5cc0>,\n",
       " 'Pero': <gensim.models.keyedvectors.Vocab at 0x28ae62e5cf8>,\n",
       " 'La': <gensim.models.keyedvectors.Vocab at 0x28ae62e5d30>,\n",
       " 'cuatro': <gensim.models.keyedvectors.Vocab at 0x28ae62e5d68>,\n",
       " 'sea': <gensim.models.keyedvectors.Vocab at 0x28ae62e5da0>,\n",
       " 'contra': <gensim.models.keyedvectors.Vocab at 0x28ae62e5e10>,\n",
       " 'tercera': <gensim.models.keyedvectors.Vocab at 0x28ae62e5e80>,\n",
       " 'última': <gensim.models.keyedvectors.Vocab at 0x28ae62e5ef0>,\n",
       " 'jornada': <gensim.models.keyedvectors.Vocab at 0x28ae62e5f60>,\n",
       " 'fase': <gensim.models.keyedvectors.Vocab at 0x28ae62e5f98>,\n",
       " 'grupos.': <gensim.models.keyedvectors.Vocab at 0x28ae62e5fd0>,\n",
       " 'bolivianos': <gensim.models.keyedvectors.Vocab at 0x28ae62e60b8>,\n",
       " 'muy': <gensim.models.keyedvectors.Vocab at 0x28ae62e60f0>,\n",
       " 'no': <gensim.models.keyedvectors.Vocab at 0x28ae62e6160>,\n",
       " 'uno': <gensim.models.keyedvectors.Vocab at 0x28ae62e61d0>,\n",
       " 'dos': <gensim.models.keyedvectors.Vocab at 0x28ae62e6208>,\n",
       " 'Selección': <gensim.models.keyedvectors.Vocab at 0x28ae62e6278>,\n",
       " 'Peruana': <gensim.models.keyedvectors.Vocab at 0x28ae62e62b0>,\n",
       " 'llega': <gensim.models.keyedvectors.Vocab at 0x28ae62e6358>,\n",
       " 'moral': <gensim.models.keyedvectors.Vocab at 0x28ae62e6390>,\n",
       " 'cara': <gensim.models.keyedvectors.Vocab at 0x28ae62e63c8>,\n",
       " 'fecha': <gensim.models.keyedvectors.Vocab at 0x28ae62e6438>,\n",
       " 'Grupo': <gensim.models.keyedvectors.Vocab at 0x28ae62e64a8>,\n",
       " 'A': <gensim.models.keyedvectors.Vocab at 0x28ae62e64e0>,\n",
       " 'anotó': <gensim.models.keyedvectors.Vocab at 0x28ae62e6518>,\n",
       " 'ahora': <gensim.models.keyedvectors.Vocab at 0x28ae62e6550>,\n",
       " 'racha': <gensim.models.keyedvectors.Vocab at 0x28ae62e65f8>,\n",
       " 'desde': <gensim.models.keyedvectors.Vocab at 0x28ae62e6630>,\n",
       " 'ya': <gensim.models.keyedvectors.Vocab at 0x28ae62e6668>,\n",
       " 'cómo': <gensim.models.keyedvectors.Vocab at 0x28ae62e6780>,\n",
       " 'él': <gensim.models.keyedvectors.Vocab at 0x28ae62e67f0>,\n",
       " 'pues': <gensim.models.keyedvectors.Vocab at 0x28ae62e6898>,\n",
       " 'mucho': <gensim.models.keyedvectors.Vocab at 0x28ae62e68d0>,\n",
       " 'entonces': <gensim.models.keyedvectors.Vocab at 0x28ae62e6908>,\n",
       " 'tener': <gensim.models.keyedvectors.Vocab at 0x28ae62e6940>,\n",
       " 'destacó': <gensim.models.keyedvectors.Vocab at 0x28ae62e6978>,\n",
       " 'cada': <gensim.models.keyedvectors.Vocab at 0x28ae62e69b0>,\n",
       " 'América,': <gensim.models.keyedvectors.Vocab at 0x28ae62e6a20>,\n",
       " 'disputará': <gensim.models.keyedvectors.Vocab at 0x28ae62e6a58>,\n",
       " 'hasta': <gensim.models.keyedvectors.Vocab at 0x28ae62e6a90>,\n",
       " 'brasileña': <gensim.models.keyedvectors.Vocab at 0x28ae62e6ac8>,\n",
       " 'hacerlo': <gensim.models.keyedvectors.Vocab at 0x28ae62e6b38>,\n",
       " 'estadio': <gensim.models.keyedvectors.Vocab at 0x28ae62e6b70>,\n",
       " 'donde': <gensim.models.keyedvectors.Vocab at 0x28ae62e6ba8>,\n",
       " '22': <gensim.models.keyedvectors.Vocab at 0x28ae62e6cc0>,\n",
       " 'junio': <gensim.models.keyedvectors.Vocab at 0x28ae62e6cf8>,\n",
       " 'Con': <gensim.models.keyedvectors.Vocab at 0x28ae62e6d68>,\n",
       " 'así': <gensim.models.keyedvectors.Vocab at 0x28ae62e6e10>,\n",
       " 'marcha': <gensim.models.keyedvectors.Vocab at 0x28ae62e6e80>,\n",
       " 'tabla': <gensim.models.keyedvectors.Vocab at 0x28ae62e6eb8>,\n",
       " 'posiciones': <gensim.models.keyedvectors.Vocab at 0x28ae62e6f28>,\n",
       " 'grupos': <gensim.models.keyedvectors.Vocab at 0x28ae62e7048>,\n",
       " '2019': <gensim.models.keyedvectors.Vocab at 0x28ae62e70b8>,\n",
       " 'partidos': <gensim.models.keyedvectors.Vocab at 0x28ae62e70f0>,\n",
       " 'lo': <gensim.models.keyedvectors.Vocab at 0x28ae62e7160>,\n",
       " 'Conoce': <gensim.models.keyedvectors.Vocab at 0x28ae62e7198>,\n",
       " 'clasificación': <gensim.models.keyedvectors.Vocab at 0x28ae62e7208>,\n",
       " 'torneo': <gensim.models.keyedvectors.Vocab at 0x28ae62e7278>,\n",
       " 'conseguir': <gensim.models.keyedvectors.Vocab at 0x28ae62e72b0>,\n",
       " 'te': <gensim.models.keyedvectors.Vocab at 0x28ae62e7320>,\n",
       " 'fue': <gensim.models.keyedvectors.Vocab at 0x28ae62e7358>,\n",
       " 'primera': <gensim.models.keyedvectors.Vocab at 0x28ae62e7390>,\n",
       " 'minuto': <gensim.models.keyedvectors.Vocab at 0x28ae62e73c8>,\n",
       " 'goles,': <gensim.models.keyedvectors.Vocab at 0x28ae62e7400>,\n",
       " 'también': <gensim.models.keyedvectors.Vocab at 0x28ae62e7438>,\n",
       " 'frente': <gensim.models.keyedvectors.Vocab at 0x28ae62e7470>,\n",
       " 'Venezuela': <gensim.models.keyedvectors.Vocab at 0x28ae62e74a8>,\n",
       " '3-0': <gensim.models.keyedvectors.Vocab at 0x28ae62e74e0>,\n",
       " 'juego': <gensim.models.keyedvectors.Vocab at 0x28ae62e7518>,\n",
       " 'sobre': <gensim.models.keyedvectors.Vocab at 0x28ae62e7550>,\n",
       " 'goles': <gensim.models.keyedvectors.Vocab at 0x28ae62e7588>,\n",
       " 'Vinotinto': <gensim.models.keyedvectors.Vocab at 0x28ae62e75c0>,\n",
       " 'final.': <gensim.models.keyedvectors.Vocab at 0x28ae62e75f8>,\n",
       " 'Sin': <gensim.models.keyedvectors.Vocab at 0x28ae62e7630>,\n",
       " 'embargo,': <gensim.models.keyedvectors.Vocab at 0x28ae62e7668>,\n",
       " 'Venezuela,': <gensim.models.keyedvectors.Vocab at 0x28ae62e76a0>,\n",
       " 'bien': <gensim.models.keyedvectors.Vocab at 0x28ae62e76d8>,\n",
       " 'buen': <gensim.models.keyedvectors.Vocab at 0x28ae62e7710>,\n",
       " 'duelo': <gensim.models.keyedvectors.Vocab at 0x28ae62e7748>,\n",
       " 'si': <gensim.models.keyedvectors.Vocab at 0x28ae62e7780>,\n",
       " 'Bolivia,': <gensim.models.keyedvectors.Vocab at 0x28ae62e77b8>,\n",
       " 'o': <gensim.models.keyedvectors.Vocab at 0x28ae62e77f0>,\n",
       " 'historial': <gensim.models.keyedvectors.Vocab at 0x28ae62e7828>,\n",
       " 'duelos': <gensim.models.keyedvectors.Vocab at 0x28ae62e78d0>,\n",
       " 'tres': <gensim.models.keyedvectors.Vocab at 0x28ae62e7940>,\n",
       " 'brasileños': <gensim.models.keyedvectors.Vocab at 0x28ae62e79e8>,\n",
       " 'vez': <gensim.models.keyedvectors.Vocab at 0x28ae62e7a58>}"
      ]
     },
     "execution_count": 6,
     "metadata": {},
     "output_type": "execute_result"
    }
   ],
   "source": [
    "model1.wv.vocab"
   ]
  },
  {
   "cell_type": "code",
   "execution_count": 7,
   "metadata": {
    "colab": {
     "base_uri": "https://localhost:8080/",
     "height": 36
    },
    "colab_type": "code",
    "id": "aeJ4aa31bOqi",
    "outputId": "3a91b03b-090e-4a5e-8e2b-da2a77832eb1"
   },
   "outputs": [
    {
     "data": {
      "text/plain": [
       "dict"
      ]
     },
     "execution_count": 7,
     "metadata": {},
     "output_type": "execute_result"
    }
   ],
   "source": [
    "type(model1.wv.vocab)"
   ]
  },
  {
   "cell_type": "markdown",
   "metadata": {
    "colab_type": "text",
    "id": "00lKgU1HvPri"
   },
   "source": [
    "**Similaridad**"
   ]
  },
  {
   "cell_type": "code",
   "execution_count": 8,
   "metadata": {
    "colab": {
     "base_uri": "https://localhost:8080/",
     "height": 299
    },
    "colab_type": "code",
    "id": "nkgFTn3lb-p6",
    "outputId": "cf2cf782-feea-48bf-a817-89471d2bed4e"
   },
   "outputs": [
    {
     "name": "stderr",
     "output_type": "stream",
     "text": [
      "C:\\Users\\noy-4\\Anaconda3\\lib\\site-packages\\ipykernel_launcher.py:1: DeprecationWarning: Call to deprecated `most_similar` (Method will be removed in 4.0.0, use self.wv.most_similar() instead).\n",
      "  \"\"\"Entry point for launching an IPython kernel.\n"
     ]
    },
    {
     "data": {
      "text/plain": [
       "[('golazo', 0.2582066059112549),\n",
       " ('Sin', 0.24974191188812256),\n",
       " ('historial', 0.21376314759254456),\n",
       " ('La', 0.2109835147857666),\n",
       " ('moral', 0.2060953825712204),\n",
       " ('llega', 0.2009638547897339),\n",
       " ('donde', 0.1918725073337555),\n",
       " ('uno', 0.1765943169593811),\n",
       " ('igualó', 0.1763039380311966),\n",
       " ('grupos', 0.17586705088615417)]"
      ]
     },
     "execution_count": 8,
     "metadata": {},
     "output_type": "execute_result"
    }
   ],
   "source": [
    "model1.most_similar(positive=[\"clasificación\"],topn=10)"
   ]
  },
  {
   "cell_type": "code",
   "execution_count": 9,
   "metadata": {
    "colab": {
     "base_uri": "https://localhost:8080/",
     "height": 299
    },
    "colab_type": "code",
    "id": "8ni4zuHRdEWF",
    "outputId": "58bb0266-10d0-4163-f56c-7261fa6e3c50"
   },
   "outputs": [
    {
     "name": "stderr",
     "output_type": "stream",
     "text": [
      "C:\\Users\\noy-4\\Anaconda3\\lib\\site-packages\\ipykernel_launcher.py:1: DeprecationWarning: Call to deprecated `most_similar` (Method will be removed in 4.0.0, use self.wv.most_similar() instead).\n",
      "  \"\"\"Entry point for launching an IPython kernel.\n"
     ]
    },
    {
     "data": {
      "text/plain": [
       "[('contra', 0.24953274428844452),\n",
       " ('y', 0.24625706672668457),\n",
       " ('uno', 0.2044413536787033),\n",
       " ('mucho', 0.1839843988418579),\n",
       " ('que', 0.1795104742050171),\n",
       " ('hacerlo', 0.17656445503234863),\n",
       " ('apuesta', 0.1737508326768875),\n",
       " ('Bolivia,', 0.1735531985759735),\n",
       " ('llega', 0.15274471044540405),\n",
       " ('22', 0.14437654614448547)]"
      ]
     },
     "execution_count": 9,
     "metadata": {},
     "output_type": "execute_result"
    }
   ],
   "source": [
    "model1.most_similar(positive=['Perú', 'grupos'], negative=['brasileños'], topn=10)"
   ]
  },
  {
   "cell_type": "code",
   "execution_count": 10,
   "metadata": {
    "colab": {
     "base_uri": "https://localhost:8080/",
     "height": 93
    },
    "colab_type": "code",
    "id": "HbH_hNPxugF1",
    "outputId": "1300fb72-dad8-4bbf-effe-c958cde8faf2"
   },
   "outputs": [
    {
     "data": {
      "text/plain": [
       "-0.09804834"
      ]
     },
     "execution_count": 10,
     "metadata": {},
     "output_type": "execute_result"
    }
   ],
   "source": [
    "model1.wv.similarity('Perú', 'Paolo')"
   ]
  },
  {
   "cell_type": "code",
   "execution_count": 11,
   "metadata": {
    "colab": {
     "base_uri": "https://localhost:8080/",
     "height": 131
    },
    "colab_type": "code",
    "id": "7itDVngLuvCp",
    "outputId": "0be09d8d-cecc-4b90-8672-168dd91c1dff"
   },
   "outputs": [
    {
     "name": "stderr",
     "output_type": "stream",
     "text": [
      "C:\\Users\\noy-4\\Anaconda3\\lib\\site-packages\\gensim\\models\\keyedvectors.py:876: FutureWarning: arrays to stack must be passed as a \"sequence\" type such as list or tuple. Support for non-sequence iterables such as generators is deprecated as of NumPy 1.16 and will raise an error in the future.\n",
      "  vectors = vstack(self.word_vec(word, use_norm=True) for word in used_words).astype(REAL)\n"
     ]
    },
    {
     "data": {
      "text/plain": [
       "'Paolo'"
      ]
     },
     "execution_count": 11,
     "metadata": {},
     "output_type": "execute_result"
    }
   ],
   "source": [
    "model1.wv.doesnt_match(['Perú', 'Paolo', 'Bolivia'])"
   ]
  },
  {
   "cell_type": "markdown",
   "metadata": {
    "colab_type": "text",
    "id": "m79tS5aIE4wq"
   },
   "source": [
    "### Noticia de política\n",
    "\n",
    "**Modelado:**"
   ]
  },
  {
   "cell_type": "code",
   "execution_count": 12,
   "metadata": {
    "colab": {},
    "colab_type": "code",
    "id": "uEn5IN6Ye4Cw"
   },
   "outputs": [
    {
     "name": "stderr",
     "output_type": "stream",
     "text": [
      "C:\\Users\\noy-4\\Anaconda3\\lib\\site-packages\\gensim\\models\\base_any2vec.py:743: UserWarning: C extension not loaded, training will be slow. Install a C compiler and reinstall gensim for fast training.\n",
      "  \"C extension not loaded, training will be slow. \"\n"
     ]
    }
   ],
   "source": [
    "sentences2 = word2vec.Text8Corpus('NoticiasPolitica.txt')\n",
    "model2 = word2vec.Word2Vec(size=100,min_count=2,workers=cpu_count()-1)"
   ]
  },
  {
   "cell_type": "code",
   "execution_count": 13,
   "metadata": {
    "colab": {
     "base_uri": "https://localhost:8080/",
     "height": 74
    },
    "colab_type": "code",
    "id": "auUyaLFxE84v",
    "outputId": "c140e97c-4733-4c90-f4e9-54897eaa10fa"
   },
   "outputs": [
    {
     "name": "stderr",
     "output_type": "stream",
     "text": [
      "C:\\Users\\noy-4\\Anaconda3\\lib\\site-packages\\smart_open\\smart_open_lib.py:398: UserWarning: This function is deprecated, use smart_open.open instead. See the migration notes for details: https://github.com/RaRe-Technologies/smart_open/blob/master/README.rst#migrating-to-the-new-open-function\n",
      "  'See the migration notes for details: %s' % _MIGRATION_NOTES_URL\n"
     ]
    }
   ],
   "source": [
    "model2.build_vocab(sentences2, progress_per=10000)"
   ]
  },
  {
   "cell_type": "code",
   "execution_count": 14,
   "metadata": {
    "colab": {
     "base_uri": "https://localhost:8080/",
     "height": 36
    },
    "colab_type": "code",
    "id": "pspIThHlFcL5",
    "outputId": "43d9a6bf-e0f4-4bb9-acbc-92b32a874ed2"
   },
   "outputs": [
    {
     "data": {
      "text/plain": [
       "113"
      ]
     },
     "execution_count": 14,
     "metadata": {},
     "output_type": "execute_result"
    }
   ],
   "source": [
    "len(model2.wv.vocab)"
   ]
  },
  {
   "cell_type": "code",
   "execution_count": 15,
   "metadata": {
    "colab": {
     "base_uri": "https://localhost:8080/",
     "height": 93
    },
    "colab_type": "code",
    "id": "NMGyuQxBFpJ_",
    "outputId": "beee062d-8402-4394-f0f8-d4e2ac9b1bc0"
   },
   "outputs": [
    {
     "name": "stderr",
     "output_type": "stream",
     "text": [
      "C:\\Users\\noy-4\\Anaconda3\\lib\\site-packages\\ipykernel_launcher.py:1: DeprecationWarning: Call to deprecated `__getitem__` (Method will be removed in 4.0.0, use self.wv.__getitem__() instead).\n",
      "  \"\"\"Entry point for launching an IPython kernel.\n"
     ]
    },
    {
     "data": {
      "text/plain": [
       "100"
      ]
     },
     "execution_count": 15,
     "metadata": {},
     "output_type": "execute_result"
    }
   ],
   "source": [
    "len(model2[\"presidente\"])"
   ]
  },
  {
   "cell_type": "code",
   "execution_count": 16,
   "metadata": {
    "colab": {
     "base_uri": "https://localhost:8080/",
     "height": 2134
    },
    "colab_type": "code",
    "id": "RewUgFngFiqv",
    "outputId": "20357d38-3b3a-4a13-e6ea-bc167cd2fcfd"
   },
   "outputs": [
    {
     "data": {
      "text/plain": [
       "{'proyecto': <gensim.models.keyedvectors.Vocab at 0x28ae62e7898>,\n",
       " 'de': <gensim.models.keyedvectors.Vocab at 0x28ae62e7128>,\n",
       " 'ley': <gensim.models.keyedvectors.Vocab at 0x28ae62e7080>,\n",
       " 'para': <gensim.models.keyedvectors.Vocab at 0x28ae62e67b8>,\n",
       " 'del': <gensim.models.keyedvectors.Vocab at 0x28ae62e6dd8>,\n",
       " 'Ejecutivo': <gensim.models.keyedvectors.Vocab at 0x28ae62e6128>,\n",
       " 'por': <gensim.models.keyedvectors.Vocab at 0x28ae62e6b00>,\n",
       " 'la': <gensim.models.keyedvectors.Vocab at 0x28ae62e6fd0>,\n",
       " 'bancada': <gensim.models.keyedvectors.Vocab at 0x28ae62e6d30>,\n",
       " 'Acción': <gensim.models.keyedvectors.Vocab at 0x28ae62e8278>,\n",
       " 'busca': <gensim.models.keyedvectors.Vocab at 0x28ae62e8208>,\n",
       " 'un': <gensim.models.keyedvectors.Vocab at 0x28ae62e8198>,\n",
       " 'plazo': <gensim.models.keyedvectors.Vocab at 0x28ae62e8080>,\n",
       " '30': <gensim.models.keyedvectors.Vocab at 0x28ae62e8160>,\n",
       " 'días': <gensim.models.keyedvectors.Vocab at 0x28ae62e82b0>,\n",
       " 'los': <gensim.models.keyedvectors.Vocab at 0x28ae62e82e8>,\n",
       " 'levantamiento': <gensim.models.keyedvectors.Vocab at 0x28ae62e8320>,\n",
       " 'inmunidad': <gensim.models.keyedvectors.Vocab at 0x28ae62e8358>,\n",
       " 'parlamentaria.': <gensim.models.keyedvectors.Vocab at 0x28ae62e8438>,\n",
       " 'en': <gensim.models.keyedvectors.Vocab at 0x28ae62e8470>,\n",
       " 'el': <gensim.models.keyedvectors.Vocab at 0x28ae62e84e0>,\n",
       " 'Congreso': <gensim.models.keyedvectors.Vocab at 0x28ae62e8518>,\n",
       " 'se': <gensim.models.keyedvectors.Vocab at 0x28ae62e8550>,\n",
       " 'hacer': <gensim.models.keyedvectors.Vocab at 0x28ae62e85f8>,\n",
       " 'a': <gensim.models.keyedvectors.Vocab at 0x28ae62e8668>,\n",
       " 'La': <gensim.models.keyedvectors.Vocab at 0x28ae62e86a0>,\n",
       " 'es': <gensim.models.keyedvectors.Vocab at 0x28ae62e8748>,\n",
       " 'que': <gensim.models.keyedvectors.Vocab at 0x28ae62e87f0>,\n",
       " 'parlamentaria': <gensim.models.keyedvectors.Vocab at 0x28ae62e8860>,\n",
       " 'no': <gensim.models.keyedvectors.Vocab at 0x28ae62e8a20>,\n",
       " 'congresistas': <gensim.models.keyedvectors.Vocab at 0x28ae62e8a58>,\n",
       " 'caso': <gensim.models.keyedvectors.Vocab at 0x28ae62e8b00>,\n",
       " 'presidente': <gensim.models.keyedvectors.Vocab at 0x28ae62e8b38>,\n",
       " 'Poder': <gensim.models.keyedvectors.Vocab at 0x28ae62e8ba8>,\n",
       " 'Judicial': <gensim.models.keyedvectors.Vocab at 0x28ae62e8cc0>,\n",
       " 'al': <gensim.models.keyedvectors.Vocab at 0x28ae62e8cf8>,\n",
       " 'o': <gensim.models.keyedvectors.Vocab at 0x28ae62e8d68>,\n",
       " 'contra': <gensim.models.keyedvectors.Vocab at 0x28ae62e8e10>,\n",
       " 'legislador': <gensim.models.keyedvectors.Vocab at 0x28ae62e8eb8>,\n",
       " 'su': <gensim.models.keyedvectors.Vocab at 0x28ae62e8ef0>,\n",
       " 'y': <gensim.models.keyedvectors.Vocab at 0x28ae62e8f28>,\n",
       " 'contra.': <gensim.models.keyedvectors.Vocab at 0x28ae62e8fd0>,\n",
       " 'El': <gensim.models.keyedvectors.Vocab at 0x28ae62eac50>,\n",
       " 'también': <gensim.models.keyedvectors.Vocab at 0x28ae62eab38>,\n",
       " 'las': <gensim.models.keyedvectors.Vocab at 0x28ae62eaa58>,\n",
       " 'investigaciones': <gensim.models.keyedvectors.Vocab at 0x28ae62ea978>,\n",
       " 'con': <gensim.models.keyedvectors.Vocab at 0x28ae62ea748>,\n",
       " 'sin': <gensim.models.keyedvectors.Vocab at 0x28ae62ea6d8>,\n",
       " 'fuero': <gensim.models.keyedvectors.Vocab at 0x28ae62ea668>,\n",
       " 'Corte': <gensim.models.keyedvectors.Vocab at 0x28ae62ea630>,\n",
       " 'pedido': <gensim.models.keyedvectors.Vocab at 0x28ae62ea4a8>,\n",
       " 'mismo': <gensim.models.keyedvectors.Vocab at 0x28ae62ea438>,\n",
       " 'congresista': <gensim.models.keyedvectors.Vocab at 0x28ae62ea400>,\n",
       " 'le': <gensim.models.keyedvectors.Vocab at 0x28ae62ea3c8>,\n",
       " 'decidir': <gensim.models.keyedvectors.Vocab at 0x28ae62ea240>,\n",
       " 'sobre': <gensim.models.keyedvectors.Vocab at 0x28ae62ea198>,\n",
       " 'Susana': <gensim.models.keyedvectors.Vocab at 0x28ae62ea048>,\n",
       " 'Sala': <gensim.models.keyedvectors.Vocab at 0x28ae62ea0f0>,\n",
       " 'Apelaciones': <gensim.models.keyedvectors.Vocab at 0x28ae62ea128>,\n",
       " 'determinó': <gensim.models.keyedvectors.Vocab at 0x28ae62ea208>,\n",
       " 'juzgado': <gensim.models.keyedvectors.Vocab at 0x28ae62ea278>,\n",
       " 'decida': <gensim.models.keyedvectors.Vocab at 0x28ae62ea320>,\n",
       " 'Villarán': <gensim.models.keyedvectors.Vocab at 0x28ae62ea390>,\n",
       " 'reelección': <gensim.models.keyedvectors.Vocab at 0x28ae62ea4e0>,\n",
       " 'revocatoria': <gensim.models.keyedvectors.Vocab at 0x28ae62ea550>,\n",
       " 'Jorge': <gensim.models.keyedvectors.Vocab at 0x28ae62ea588>,\n",
       " 'Chávez': <gensim.models.keyedvectors.Vocab at 0x28ae62ea5c0>,\n",
       " 'tutela': <gensim.models.keyedvectors.Vocab at 0x28ae62ea6a0>,\n",
       " 'derechos': <gensim.models.keyedvectors.Vocab at 0x28ae62ea780>,\n",
       " 'Villarán.': <gensim.models.keyedvectors.Vocab at 0x28ae62ea7f0>,\n",
       " 'Ministerio': <gensim.models.keyedvectors.Vocab at 0x28ae62ea8d0>,\n",
       " 'Público': <gensim.models.keyedvectors.Vocab at 0x28ae62ea908>,\n",
       " 'carpetas': <gensim.models.keyedvectors.Vocab at 0x28ae62ea9b0>,\n",
       " '30-2017': <gensim.models.keyedvectors.Vocab at 0x28ae62ea9e8>,\n",
       " 'lo': <gensim.models.keyedvectors.Vocab at 0x28ae62eaa90>,\n",
       " 'acumulación': <gensim.models.keyedvectors.Vocab at 0x28ae62eaac8>,\n",
       " 'carpeta': <gensim.models.keyedvectors.Vocab at 0x28ae62eaba8>,\n",
       " '32-2017': <gensim.models.keyedvectors.Vocab at 0x28ae62eabe0>,\n",
       " 'etapa': <gensim.models.keyedvectors.Vocab at 0x28ae62eacc0>,\n",
       " 'pasado,': <gensim.models.keyedvectors.Vocab at 0x28ae62eacf8>,\n",
       " 'dos': <gensim.models.keyedvectors.Vocab at 0x28ae62ead68>,\n",
       " 'debía': <gensim.models.keyedvectors.Vocab at 0x28ae62eae10>,\n",
       " '(campaña': <gensim.models.keyedvectors.Vocab at 0x28ae62eaeb8>,\n",
       " 'juntó': <gensim.models.keyedvectors.Vocab at 0x28ae62eaef0>,\n",
       " 'este': <gensim.models.keyedvectors.Vocab at 0x28ae62eaf28>,\n",
       " 'sentido,': <gensim.models.keyedvectors.Vocab at 0x28ae62eafd0>,\n",
       " 'juez': <gensim.models.keyedvectors.Vocab at 0x28ae62ecb38>,\n",
       " 'si': <gensim.models.keyedvectors.Vocab at 0x28ae62ec6a0>,\n",
       " 'entre': <gensim.models.keyedvectors.Vocab at 0x28ae62ec550>,\n",
       " 'cuando': <gensim.models.keyedvectors.Vocab at 0x28ae62ec390>,\n",
       " 'ella': <gensim.models.keyedvectors.Vocab at 0x28ae62ec2b0>,\n",
       " 'como': <gensim.models.keyedvectors.Vocab at 0x28ae62ec198>,\n",
       " 'una': <gensim.models.keyedvectors.Vocab at 0x28ae62ec0f0>,\n",
       " 'debe': <gensim.models.keyedvectors.Vocab at 0x28ae62ec128>,\n",
       " 'Junta': <gensim.models.keyedvectors.Vocab at 0x28ae62ec160>,\n",
       " 'Portavoces': <gensim.models.keyedvectors.Vocab at 0x28ae62ec1d0>,\n",
       " 'criticar': <gensim.models.keyedvectors.Vocab at 0x28ae62ec208>,\n",
       " 'jefe': <gensim.models.keyedvectors.Vocab at 0x28ae62ec278>,\n",
       " 'Estado.': <gensim.models.keyedvectors.Vocab at 0x28ae62ec2e8>,\n",
       " 'Juan': <gensim.models.keyedvectors.Vocab at 0x28ae62ec320>,\n",
       " 'Sheput': <gensim.models.keyedvectors.Vocab at 0x28ae62ec358>,\n",
       " 'manifestó': <gensim.models.keyedvectors.Vocab at 0x28ae62ec3c8>,\n",
       " 'Daniel': <gensim.models.keyedvectors.Vocab at 0x28ae62ec400>,\n",
       " 'Salaverry,': <gensim.models.keyedvectors.Vocab at 0x28ae62ec470>,\n",
       " 'República”,': <gensim.models.keyedvectors.Vocab at 0x28ae62ec4a8>,\n",
       " 'indicó.': <gensim.models.keyedvectors.Vocab at 0x28ae62ec518>,\n",
       " 'mandiles': <gensim.models.keyedvectors.Vocab at 0x28ae62ec630>,\n",
       " 'uso': <gensim.models.keyedvectors.Vocab at 0x28ae62ec668>,\n",
       " 'miembros': <gensim.models.keyedvectors.Vocab at 0x28ae62ec6d8>,\n",
       " 'ministra': <gensim.models.keyedvectors.Vocab at 0x28ae62ec8d0>,\n",
       " 'ningún': <gensim.models.keyedvectors.Vocab at 0x28ae62ec908>,\n",
       " 'sabiendo': <gensim.models.keyedvectors.Vocab at 0x28ae62ec940>,\n",
       " 'tiene': <gensim.models.keyedvectors.Vocab at 0x28ae62eca20>}"
      ]
     },
     "execution_count": 16,
     "metadata": {},
     "output_type": "execute_result"
    }
   ],
   "source": [
    "model2.wv.vocab"
   ]
  },
  {
   "cell_type": "markdown",
   "metadata": {
    "colab_type": "text",
    "id": "YjbqogO6Fcj5"
   },
   "source": [
    "**Similaridad:**"
   ]
  },
  {
   "cell_type": "code",
   "execution_count": 17,
   "metadata": {
    "colab": {
     "base_uri": "https://localhost:8080/",
     "height": 299
    },
    "colab_type": "code",
    "id": "7Z_-rSGEF46s",
    "outputId": "3bc5431c-e447-4ff6-ab65-0801327a14b7"
   },
   "outputs": [
    {
     "name": "stderr",
     "output_type": "stream",
     "text": [
      "C:\\Users\\noy-4\\Anaconda3\\lib\\site-packages\\ipykernel_launcher.py:1: DeprecationWarning: Call to deprecated `most_similar` (Method will be removed in 4.0.0, use self.wv.most_similar() instead).\n",
      "  \"\"\"Entry point for launching an IPython kernel.\n"
     ]
    },
    {
     "data": {
      "text/plain": [
       "[('Público', 0.22241872549057007),\n",
       " ('Estado.', 0.1992815136909485),\n",
       " ('carpetas', 0.16591954231262207),\n",
       " ('decida', 0.1657104194164276),\n",
       " ('32-2017', 0.14898592233657837),\n",
       " ('criticar', 0.14879179000854492),\n",
       " ('las', 0.14355841279029846),\n",
       " ('un', 0.14331576228141785),\n",
       " ('Susana', 0.1290379911661148),\n",
       " ('lo', 0.11320385336875916)]"
      ]
     },
     "execution_count": 17,
     "metadata": {},
     "output_type": "execute_result"
    }
   ],
   "source": [
    "model2.most_similar(positive=[\"Congreso\"],topn=10)"
   ]
  },
  {
   "cell_type": "markdown",
   "metadata": {
    "colab_type": "text",
    "id": "3IhS8Mh8FhKe"
   },
   "source": [
    "### Funciones:\n",
    "\n",
    "1. Vector de caracteristicas"
   ]
  },
  {
   "cell_type": "code",
   "execution_count": 18,
   "metadata": {
    "colab": {},
    "colab_type": "code",
    "id": "t2sYDQWoCbkH"
   },
   "outputs": [],
   "source": [
    "def getFV(document,modelo):\n",
    "    words=document.split()\n",
    "    s=np.zeros(100)\n",
    "    k=0\n",
    "    for w in words:\n",
    "        if w in modelo.wv.vocab:\n",
    "            s=s+modelo[w]\n",
    "            k=k+1\n",
    "    return s/k"
   ]
  },
  {
   "cell_type": "markdown",
   "metadata": {
    "colab_type": "text",
    "id": "rpipfuA0GEaN"
   },
   "source": [
    "2. Centroide del modelo"
   ]
  },
  {
   "cell_type": "code",
   "execution_count": 19,
   "metadata": {
    "colab": {},
    "colab_type": "code",
    "id": "TYHMKA11CZQO"
   },
   "outputs": [],
   "source": [
    "def centroidModelo(modelo):\n",
    "  j=0\n",
    "  s=np.zeros(100)\n",
    "  for key in modelo.wv.vocab:\n",
    "    s=s+modelo[key]\n",
    "    j = j+1\n",
    "  return s/j"
   ]
  },
  {
   "cell_type": "markdown",
   "metadata": {
    "colab_type": "text",
    "id": "jcVTsKRPGKvp"
   },
   "source": [
    "3. Distancia Euclidiana"
   ]
  },
  {
   "cell_type": "code",
   "execution_count": 20,
   "metadata": {
    "colab": {},
    "colab_type": "code",
    "id": "B9zZsTsN7erT"
   },
   "outputs": [],
   "source": [
    "def distanciaEuclidiana(A,B):\n",
    "    new = A - B\n",
    "    sc = np.sum(new**2)\n",
    "    return np.sqrt(sc)"
   ]
  },
  {
   "cell_type": "markdown",
   "metadata": {
    "colab_type": "text",
    "id": "0E8BOiahGdZ6"
   },
   "source": [
    "4. Predicción Noticia"
   ]
  },
  {
   "cell_type": "code",
   "execution_count": 21,
   "metadata": {
    "colab": {},
    "colab_type": "code",
    "id": "rmc_zRCp942V"
   },
   "outputs": [],
   "source": [
    "def predictNoticia(noticia):\n",
    "  \n",
    "  V_D = getFV(noticia,model1)\n",
    "  V_P = getFV(noticia,model2)\n",
    "  \n",
    "  meanD = centroidModelo(model1)\n",
    "  meanP = centroidModelo(model2)\n",
    "  \n",
    "  disE_D = distanciaEuclidiana(meanD,V_D)\n",
    "  disE_P = distanciaEuclidiana(meanP,V_P)\n",
    "  \n",
    "  print(\"DIST DEPORTE: \", disE_D)\n",
    "  print(\"DIST POLITICA: \", disE_P)\n",
    "  \n",
    "  if disE_D < disE_P:\n",
    "    return \"Noticia de Deporte\"\n",
    "  else:\n",
    "    return \"Noticia de Politica\""
   ]
  },
  {
   "cell_type": "markdown",
   "metadata": {
    "colab_type": "text",
    "id": "bILWJSYYKckb"
   },
   "source": [
    "### Prediccion de una nueva noticia:\n"
   ]
  },
  {
   "cell_type": "markdown",
   "metadata": {
    "colab_type": "text",
    "id": "n_C0d9LOOGiU"
   },
   "source": [
    "**Predicción**\n",
    "\n",
    "1. Noticia de Deporte"
   ]
  },
  {
   "cell_type": "code",
   "execution_count": 22,
   "metadata": {
    "colab": {},
    "colab_type": "code",
    "id": "MkP0N23OFRda"
   },
   "outputs": [],
   "source": [
    "test = open(\"TestDeporte.txt\",'r',encoding=\"utf8\")\n",
    "testNoticia = test.read()\n",
    "test.close()"
   ]
  },
  {
   "cell_type": "code",
   "execution_count": 23,
   "metadata": {
    "colab": {
     "base_uri": "https://localhost:8080/",
     "height": 56
    },
    "colab_type": "code",
    "id": "xyTDSp0mKXyo",
    "outputId": "4879f809-fb0f-43a8-d19a-36a667669c20"
   },
   "outputs": [
    {
     "data": {
      "text/plain": [
       "\"Tras confirmarse a Brasil y estar cerca del acuerdo con Estados Unidos para la fecha FIFA de septiembre, la Selección Peruana enfrentará en partidos de ida y vuelta a la 'Celeste' en Montevideo y Lima.A través de un comunicado divulgado en redes sociales, la Federación Peruana de Fútbol confirmó que Perú y Uruguay chocarán el viernes 11 de octubre en suelo charrúa mientras la vuelta en la suelo patrio será el martes 15.\\n\\nEn esa misma línea, la FPF notificó que los horarios del Perú vs Uruguay todavía están por definir. Los estadios serían, de no mediar inconvenientes, el Centenario de Montevideo y el Estadio Nacional.Los amistosos ante Uruguay servirán a Ricardo Gareca para consolidar al equipo que tiene como objetivo clasificar al Mundial Qatar 2022, cuyas eliminatorias arrancarán en marzo de 2020.\\n\\nEn las Eliminatorias Rusia 2018, Perú cayó por 1-0 ante Uruguay en Montevideo mientras en Lima el resultado fue de 2-1 a favor y encarriló la clasificación a la Copa del Mundo. \""
      ]
     },
     "execution_count": 23,
     "metadata": {},
     "output_type": "execute_result"
    }
   ],
   "source": [
    "testNoticia"
   ]
  },
  {
   "cell_type": "code",
   "execution_count": 24,
   "metadata": {
    "colab": {
     "base_uri": "https://localhost:8080/",
     "height": 149
    },
    "colab_type": "code",
    "id": "qKbdAkBK9tb9",
    "outputId": "f907e77e-95c2-4c36-f3e6-fbf972cd21a4"
   },
   "outputs": [
    {
     "name": "stdout",
     "output_type": "stream",
     "text": [
      "DIST DEPORTE:  0.005453699949703342\n",
      "DIST POLITICA:  0.007748152868898564\n"
     ]
    },
    {
     "name": "stderr",
     "output_type": "stream",
     "text": [
      "C:\\Users\\noy-4\\Anaconda3\\lib\\site-packages\\ipykernel_launcher.py:7: DeprecationWarning: Call to deprecated `__getitem__` (Method will be removed in 4.0.0, use self.wv.__getitem__() instead).\n",
      "  import sys\n",
      "C:\\Users\\noy-4\\Anaconda3\\lib\\site-packages\\ipykernel_launcher.py:5: DeprecationWarning: Call to deprecated `__getitem__` (Method will be removed in 4.0.0, use self.wv.__getitem__() instead).\n",
      "  \"\"\"\n"
     ]
    }
   ],
   "source": [
    "Result = predictNoticia(testNoticia)"
   ]
  },
  {
   "cell_type": "code",
   "execution_count": 25,
   "metadata": {
    "colab": {
     "base_uri": "https://localhost:8080/",
     "height": 36
    },
    "colab_type": "code",
    "id": "jTd20Xg1_eoH",
    "outputId": "54b3778a-95b2-4af8-fb6d-8714d4b09174"
   },
   "outputs": [
    {
     "data": {
      "text/plain": [
       "'Noticia de Deporte'"
      ]
     },
     "execution_count": 25,
     "metadata": {},
     "output_type": "execute_result"
    }
   ],
   "source": [
    "Result"
   ]
  },
  {
   "cell_type": "markdown",
   "metadata": {
    "colab_type": "text",
    "id": "ZLfAEqf0ctkt"
   },
   "source": [
    "2. Noticia de Politica"
   ]
  },
  {
   "cell_type": "code",
   "execution_count": 26,
   "metadata": {
    "colab": {},
    "colab_type": "code",
    "id": "ZE9sAzrZRWpU",
    "scrolled": true
   },
   "outputs": [],
   "source": [
    "test1 = open(\"TestPolitic.txt\",'r',encoding=\"utf8\")\n",
    "testNoticia2 = test1.read()\n",
    "test1.close()"
   ]
  },
  {
   "cell_type": "code",
   "execution_count": 27,
   "metadata": {
    "colab": {
     "base_uri": "https://localhost:8080/",
     "height": 56
    },
    "colab_type": "code",
    "id": "6yKsp8M2cO5t",
    "outputId": "067b93d0-5426-42c6-c432-41583d5ebf14"
   },
   "outputs": [
    {
     "data": {
      "text/plain": [
       "'La presidenta de la Comisión de Ética, Janet Sánchez, afirmó que nunca ha tenido ningún interés en obstaculizar una posible nueva candidatura del titular del Congreso, Daniel Salaverry, a la Mesa Directiva para el periodo 2019-2020.\\n\\n“El congresista Salaverry, por lo que hemos podido ver ahora, ha tenido pretensiones de lanzarse a la Mesa Directiva y quiero decirle que yo no tengo ningún interés en obstaculizar su candidatura. Solo hemos cumplido desde la presidencia de la Comisión de Ética con nuestra responsabilidad. Él ha tenido un proceso, se ha llegado a una conclusión y ya saben el resultado”, afirmó a la prensa.\\nEsta mañana, la legisladora oficialista refirió que desconoce con qué colegas podría agruparse Salaverry para una posible postulación y manifestó que tampoco es “de su interés”.\\n\\n“[¿Salaverry podría formar una nueva bancada?] Eso tendrían que preguntarle al congresista Salaverry, con quién formaría su bancada y quiénes sería. No es de mi competencia ni de mi interés”, expresó.\\n\\nJanet Sánchez indicó que le corresponde al procurador del Congreso responder al Poder Judicial por la medida cautelar presentada por el titular del Legislativo contra el informe de la Comisión de Ética que recomienda suspenderlo 120 días por la presentación de informes adulterados de semana de representación.\\n-Aprueban informe contra Moisés Mamani-\\n\\nLa titular de la Comisión de Ética explicó que el extremo de la denuncia contra Moisés Mamani sobre el presunto despido arbitrario a una trabajadora de su despacho, fue archivado por no contar con el descargo de la implicada.\\n\\n“Hemos invitado a la señora en el marco de la audiencia. Nunca se ha apersonado, nunca se ha manifestado al respecto, nunca ha mandado ningún tipo de declaración. Necesitamos la declaración y manifestación de ambas partes”, detalló.\\n\\nPese a este archivamiento, el grupo de trabajo aprobó por unanimidad el informe de la Secretaría Técnica que recomienda suspender por 120 días a Moisés Mamani por presentar documentación falsa en licitaciones del Estado tras una denuncia planteada por Bienvenido Ramírez.'"
      ]
     },
     "execution_count": 27,
     "metadata": {},
     "output_type": "execute_result"
    }
   ],
   "source": [
    "testNoticia2"
   ]
  },
  {
   "cell_type": "code",
   "execution_count": 28,
   "metadata": {
    "colab": {
     "base_uri": "https://localhost:8080/",
     "height": 168
    },
    "colab_type": "code",
    "id": "0Fk2UYYuRh4f",
    "outputId": "5ecfcb9c-2ac1-4c3f-c180-5d2350e9b3f9"
   },
   "outputs": [
    {
     "name": "stdout",
     "output_type": "stream",
     "text": [
      "DIST DEPORTE:  0.007067260187272295\n",
      "DIST POLITICA:  0.006298360055234533\n"
     ]
    },
    {
     "name": "stderr",
     "output_type": "stream",
     "text": [
      "C:\\Users\\noy-4\\Anaconda3\\lib\\site-packages\\ipykernel_launcher.py:7: DeprecationWarning: Call to deprecated `__getitem__` (Method will be removed in 4.0.0, use self.wv.__getitem__() instead).\n",
      "  import sys\n",
      "C:\\Users\\noy-4\\Anaconda3\\lib\\site-packages\\ipykernel_launcher.py:5: DeprecationWarning: Call to deprecated `__getitem__` (Method will be removed in 4.0.0, use self.wv.__getitem__() instead).\n",
      "  \"\"\"\n"
     ]
    },
    {
     "data": {
      "text/plain": [
       "'Noticia de Politica'"
      ]
     },
     "execution_count": 28,
     "metadata": {},
     "output_type": "execute_result"
    }
   ],
   "source": [
    "Result = predictNoticia(testNoticia2)\n",
    "Result"
   ]
  },
  {
   "cell_type": "markdown",
   "metadata": {
    "colab_type": "text",
    "id": "wQ3cMqVlLlRD"
   },
   "source": [
    "### Extra:\n",
    "- Graficos "
   ]
  },
  {
   "cell_type": "code",
   "execution_count": 29,
   "metadata": {
    "colab": {},
    "colab_type": "code",
    "id": "ioizfy0NMCH3"
   },
   "outputs": [],
   "source": [
    "import numpy as np\n",
    "import matplotlib.pyplot as plt\n",
    "%matplotlib inline\n",
    " \n",
    "import seaborn as sns\n",
    "sns.set_style(\"darkgrid\")\n",
    "\n",
    "from sklearn.decomposition import PCA\n",
    "from sklearn.manifold import TSNE\n",
    "import pandas as pd"
   ]
  },
  {
   "cell_type": "code",
   "execution_count": 30,
   "metadata": {
    "colab": {},
    "colab_type": "code",
    "id": "hTtr9h0eLWAU"
   },
   "outputs": [],
   "source": [
    "def tsnescatterplot(model, word, list_names):\n",
    "    \"\"\" Plot in seaborn the results from the t-SNE dimensionality reduction algorithm of the vectors of a query word,\n",
    "    its list of most similar words, and a list of words.\n",
    "    \"\"\"\n",
    "    arrays = np.empty((0, 100), dtype='f')\n",
    "    word_labels = [word]\n",
    "    color_list  = ['red']\n",
    "\n",
    "    # adds the vector of the query word\n",
    "    arrays = np.append(arrays, model.wv.__getitem__([word]), axis=0)\n",
    "    \n",
    "    # gets list of most similar words\n",
    "    close_words = model.wv.most_similar([word])\n",
    "    \n",
    "    # adds the vector for each of the closest words to the array\n",
    "    for wrd_score in close_words:\n",
    "        wrd_vector = model.wv.__getitem__([wrd_score[0]])\n",
    "        word_labels.append(wrd_score[0])\n",
    "        color_list.append('blue')\n",
    "        arrays = np.append(arrays, wrd_vector, axis=0)\n",
    "    \n",
    "    # adds the vector for each of the words from list_names to the array\n",
    "    for wrd in list_names:\n",
    "        wrd_vector = model.wv.__getitem__([wrd])\n",
    "        word_labels.append(wrd)\n",
    "        color_list.append('green')\n",
    "        arrays = np.append(arrays, wrd_vector, axis=0)\n",
    "        \n",
    "    # Reduces the dimensionality from 300 to 50 dimensions with PCA\n",
    "    reduc = PCA(n_components=14).fit_transform(arrays)\n",
    "    \n",
    "    # Finds t-SNE coordinates for 2 dimensions\n",
    "    np.set_printoptions(suppress=True)\n",
    "    \n",
    "    Y = TSNE(n_components=2, random_state=0, perplexity=15).fit_transform(reduc)\n",
    "    \n",
    "    # Sets everything up to plot\n",
    "    df = pd.DataFrame({'x': [x for x in Y[:, 0]],\n",
    "                       'y': [y for y in Y[:, 1]],\n",
    "                       'words': word_labels,\n",
    "                       'color': color_list})\n",
    "    \n",
    "    fig, _ = plt.subplots()\n",
    "    fig.set_size_inches(9, 9)\n",
    "    \n",
    "    # Basic plot\n",
    "    p1 = sns.regplot(data=df,\n",
    "                     x=\"x\",\n",
    "                     y=\"y\",\n",
    "                     fit_reg=False,\n",
    "                     marker=\"o\",\n",
    "                     scatter_kws={'s': 40,\n",
    "                                  'facecolors': df['color']\n",
    "                                 }\n",
    "                    )\n",
    "    \n",
    "    # Adds annotations one by one with a loop\n",
    "    for line in range(0, df.shape[0]):\n",
    "         p1.text(df[\"x\"][line],\n",
    "                 df['y'][line],\n",
    "                 '  ' + df[\"words\"][line].title(),\n",
    "                 horizontalalignment='left',\n",
    "                 verticalalignment='bottom', size='medium',\n",
    "                 color=df['color'][line],\n",
    "                 weight='normal'\n",
    "                ).set_size(15)\n",
    "\n",
    "    \n",
    "    plt.xlim(Y[:, 0].min()-50, Y[:, 0].max()+50)\n",
    "    plt.ylim(Y[:, 1].min()-50, Y[:, 1].max()+50)\n",
    "            \n",
    "    plt.title('t-SNE visualization for {}'.format(word.title()))"
   ]
  },
  {
   "cell_type": "code",
   "execution_count": 31,
   "metadata": {
    "colab": {
     "base_uri": "https://localhost:8080/",
     "height": 624
    },
    "colab_type": "code",
    "id": "twZQD4y0LvjJ",
    "outputId": "a0e3ba3d-620e-49fd-9d7c-2e9f050d0867"
   },
   "outputs": [
    {
     "data": {
      "image/png": "[encoded data removed]",
      "text/plain": [
       "<Figure size 648x648 with 1 Axes>"
      ]
     },
     "metadata": {
      "needs_background": "light"
     },
     "output_type": "display_data"
    }
   ],
   "source": [
    "tsnescatterplot(model1, 'Paolo', ['clasificación', 'Bolivia', 'Guerrero'])"
   ]
  },
  {
   "cell_type": "code",
   "execution_count": 32,
   "metadata": {
    "colab": {
     "base_uri": "https://localhost:8080/",
     "height": 624
    },
    "colab_type": "code",
    "id": "7aZBOiamL756",
    "outputId": "33de71d1-cd17-43b5-86bb-ca0f174a8861"
   },
   "outputs": [
    {
     "data": {
      "image/png": "[encoded data removed]",
      "text/plain": [
       "<Figure size 648x648 with 1 Axes>"
      ]
     },
     "metadata": {
      "needs_background": "light"
     },
     "output_type": "display_data"
    }
   ],
   "source": [
    "tsnescatterplot(model2, 'Susana', ['parlamentaria', 'Poder', 'Junta'])"
   ]
  },
  {
   "cell_type": "code",
   "execution_count": null,
   "metadata": {
    "colab": {},
    "colab_type": "code",
    "id": "oY5Jci4oNqIZ"
   },
   "outputs": [],
   "source": []
  },
  {
   "cell_type": "code",
   "execution_count": null,
   "metadata": {},
   "outputs": [],
   "source": []
  }
 ],
 "metadata": {
  "colab": {
   "collapsed_sections": [],
   "name": "Word2VecNoeMelo",
   "provenance": [],
   "version": "0.3.2"
  },
  "kernelspec": {
   "display_name": "Python 3",
   "language": "python",
   "name": "python3"
  },
  "language_info": {
   "codemirror_mode": {
    "name": "ipython",
    "version": 3
   },
   "file_extension": ".py",
   "mimetype": "text/x-python",
   "name": "python",
   "nbconvert_exporter": "python",
   "pygments_lexer": "ipython3",
   "version": "3.7.0"
  }
 },
 "nbformat": 4,
 "nbformat_minor": 1
}
