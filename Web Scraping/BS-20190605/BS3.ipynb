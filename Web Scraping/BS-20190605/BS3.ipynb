{
 "cells": [
  {
   "cell_type": "markdown",
   "metadata": {},
   "source": [
    "## Obtener Referencias"
   ]
  },
  {
   "cell_type": "code",
   "execution_count": 16,
   "metadata": {
    "collapsed": true
   },
   "outputs": [],
   "source": [
    "from bs4 import BeautifulSoup\n",
    "import requests"
   ]
  },
  {
   "cell_type": "code",
   "execution_count": 17,
   "metadata": {
    "collapsed": true
   },
   "outputs": [],
   "source": [
    "url = 'https://es.wikipedia.org/wiki/Universidad_ESAN'"
   ]
  },
  {
   "cell_type": "code",
   "execution_count": 19,
   "metadata": {
    "collapsed": true
   },
   "outputs": [],
   "source": [
    "# Obtener contenido\n",
    "content = requests.get(url).content"
   ]
  },
  {
   "cell_type": "code",
   "execution_count": 20,
   "metadata": {
    "collapsed": true
   },
   "outputs": [],
   "source": [
    "# Obtener soup\n",
    "soup = BeautifulSoup(content,'lxml') # choose lxml parser"
   ]
  },
  {
   "cell_type": "code",
   "execution_count": 21,
   "metadata": {
    "collapsed": true
   },
   "outputs": [],
   "source": [
    "# Encontrar todas las referencias\n",
    "ref_tags = soup.findAll('span', { 'class' : 'reference-text' })"
   ]
  },
  {
   "cell_type": "code",
   "execution_count": 23,
   "metadata": {},
   "outputs": [
    {
     "data": {
      "text/plain": [
       "16"
      ]
     },
     "execution_count": 23,
     "metadata": {},
     "output_type": "execute_result"
    }
   ],
   "source": [
    "len(ref_tags)"
   ]
  },
  {
   "cell_type": "code",
   "execution_count": 22,
   "metadata": {},
   "outputs": [
    {
     "data": {
      "text/plain": [
       "<span class=\"reference-text\"><span class=\"citation libro\" id=\"CITAREFColeman2006\">Coleman, Alan (2006). <i>An academic adventure : the founding of ESAN</i>. ESAN Cendoc.</span><span class=\"Z3988\" title=\"ctx_ver=Z39.88-2004&amp;rfr_id=info%3Asid%2Fes.wikipedia.org%3AUniversidad+ESAN&amp;rft.au=Coleman%2C+Alan&amp;rft.aufirst=Alan&amp;rft.aulast=Coleman&amp;rft.btitle=An+academic+adventure+%3A+the+founding+of+ESAN&amp;rft.date=2006&amp;rft.genre=book&amp;rft.place=ESAN+Cendoc&amp;rft_val_fmt=info%3Aofi%2Ffmt%3Akev%3Amtx%3Abook\"><span style=\"display:none;\"> </span></span></span>"
      ]
     },
     "execution_count": 22,
     "metadata": {},
     "output_type": "execute_result"
    }
   ],
   "source": [
    "ref_tags[0]"
   ]
  },
  {
   "cell_type": "code",
   "execution_count": 15,
   "metadata": {},
   "outputs": [
    {
     "name": "stdout",
     "output_type": "stream",
     "text": [
      "[0] Coleman, Alan (2006). An academic adventure : the founding of ESAN. ESAN Cendoc. \n",
      "[1] Asamblea Nacional de Rectores; Dirección General de Calidad Universitaria (Setiembre de 2012). «Universidades y Carreras Acreditadas por Agencias Internacionales». Avances en Acreditación. Consultado el 24 de febrero de 2013. \n",
      "[2] ESAN. «ESAN 50 Años». Consultado el 24 de febrero de 2013. \n",
      "[3] Cámara de Comercio de Lima (diciembre de 2012). «XII Encuesta Anual de Ejecutivos». Consultado el 24 de febrero de 2013. \n",
      "[4] Financial Times (julio de 2012). «Business school ranking 2012» (en inglés). Consultado el 21 de febrero de 2013. \n",
      "[5] América Economía (diciembre de 2012). «Ranking de educación Ejecutiva 2012». Consultado el 24 de febrero de 2013. \n",
      "[6] América Economía (mayo de 2012). «Resultados Rankings MBAs Latinas 2012». Consultado el 24 de febrero de 2012. \n",
      "[7] Cámara de Comercio de Lima (diciembre de 2015). «XV Encuesta Anual de Ejecutivos». Consultado el 23 de enero de 2017. \n",
      "[8] Cámara de Comercio de Lima (noviembre de 2016). «XVI Encuesta Anual de Ejecutivos de la Cámara de Comercio - Lima 2016». Consultado el 23 de enero de 2017. \n",
      "[9] Cámara de Comercio de Lima (noviembre de 2017). «XVII Encuesta Anual de Ejecutivos». Consultado el 23 de enero de 2017. \n",
      "[10] América Economía (junio de 2013). «Ranking MBA de las Mejores Escuelas de Negocios de América Latina». Consultado el 23 de enero de 2017. \n",
      "[11] Financial Times (junio de 2013). «Rankings Executive Education Open and Customised 2013». Consultado el 23 de enero de 2017. \n",
      "[12] América Economía (mayo de 2015). «Ranking MBA de América Economía». Consultado el 23 de enero de 2017. \n",
      "[13] América Economía (mayo de 2016). «Ranking MBA de América Economía». Consultado el 23 de enero de 2017. \n",
      "[14] América Economía (mayo de 2017). «Ranking MBA de América Economía». Consultado el 23 de enero de 2017. \n",
      "[15] QS Global 250 Business Schools Report (enero de 2017). «Ranking QS MBA 2017». Consultado el 23 de enero de 2017. \n"
     ]
    }
   ],
   "source": [
    "# Iterar las referencias\n",
    "for i,ref_tag in enumerate(ref_tags):\n",
    "    # Imprimir el texto\n",
    "    #print (ref_tag.text)\n",
    "    print('[{0}] {1}'.format(i,ref_tag.text))"
   ]
  }
 ],
 "metadata": {
  "kernelspec": {
   "display_name": "Python 3",
   "language": "python",
   "name": "python3"
  },
  "language_info": {
   "codemirror_mode": {
    "name": "ipython",
    "version": 3
   },
   "file_extension": ".py",
   "mimetype": "text/x-python",
   "name": "python",
   "nbconvert_exporter": "python",
   "pygments_lexer": "ipython3",
   "version": "3.7.0"
  }
 },
 "nbformat": 4,
 "nbformat_minor": 2
}
